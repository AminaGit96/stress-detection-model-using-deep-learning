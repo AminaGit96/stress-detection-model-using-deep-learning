{
  "nbformat": 4,
  "nbformat_minor": 0,
  "metadata": {
    "colab": {
      "name": "Finalmodel.ipynb",
      "provenance": [],
      "collapsed_sections": []
    },
    "kernelspec": {
      "name": "python3",
      "display_name": "Python 3"
    },
    "language_info": {
      "name": "python"
    }
  },
  "cells": [
    {
      "cell_type": "markdown",
      "source": [
        "# Importing necessary **libraries**\n"
      ],
      "metadata": {
        "id": "OkbGfbao3-dO"
      }
    },
    {
      "cell_type": "code",
      "metadata": {
        "id": "VTwX-5ixEHp0"
      },
      "source": [
        "#ml libs\n",
        "import tensorflow as tf\n",
        "import keras\n",
        "from tensorflow.keras import backend as K\n",
        "from tensorflow.keras.models import Sequential\n",
        "from tensorflow.keras. layers import Activation\n",
        "from keras.layers.core import Dense\n",
        "from tensorflow.keras.optimizers import Adam\n",
        "from tensorflow.keras.metrics import categorical_crossentropy\n",
        "from tensorflow.keras.utils import to_categorical"
      ],
      "execution_count": 1,
      "outputs": []
    },
    {
      "cell_type": "code",
      "metadata": {
        "id": "gIdD6Q2NE4yz"
      },
      "source": [
        "import pandas as pd\n",
        "import numpy as np\n",
        "import pandas_profiling as pp\n",
        "import matplotlib.pyplot as plt\n",
        "import seaborn as sns\n",
        "from sklearn import preprocessing\n",
        "from sklearn.metrics import classification_report\n",
        "from sklearn.metrics import accuracy_score\n",
        "from sklearn.ensemble import RandomForestClassifier\n",
        "from sklearn.preprocessing import MinMaxScaler\n",
        "from sklearn.preprocessing import OneHotEncoder"
      ],
      "execution_count": 2,
      "outputs": []
    },
    {
      "cell_type": "markdown",
      "metadata": {
        "id": "AD-U3zFPzz0d"
      },
      "source": [
        "# **Importing Data from  \"SWELL-KW\" Dataset.**"
      ]
    },
    {
      "cell_type": "code",
      "metadata": {
        "colab": {
          "base_uri": "https://localhost:8080/"
        },
        "id": "krNxH71LFAtV",
        "outputId": "8deb7321-09df-4fb1-e139-a7b102fb3e26"
      },
      "source": [
        "from google.colab import drive\n",
        "drive.mount('/content/drive')"
      ],
      "execution_count": 3,
      "outputs": [
        {
          "output_type": "stream",
          "name": "stdout",
          "text": [
            "Drive already mounted at /content/drive; to attempt to forcibly remount, call drive.mount(\"/content/drive\", force_remount=True).\n"
          ]
        }
      ]
    },
    {
      "cell_type": "code",
      "metadata": {
        "id": "ELbN0YBIFJux"
      },
      "source": [
        "trainFile = pd.read_csv('/content/drive/MyDrive/train.csv').drop(columns=\"datasetId\")\n",
        "testFile = pd.read_csv('/content/drive/MyDrive/test.csv').drop(columns=\"datasetId\")"
      ],
      "execution_count": 4,
      "outputs": []
    },
    {
      "cell_type": "code",
      "metadata": {
        "colab": {
          "base_uri": "https://localhost:8080/",
          "height": 247
        },
        "id": "YKGgUFD27jdi",
        "outputId": "03659057-e571-4139-c58a-ef1469808322"
      },
      "source": [
        "trainFile.head()"
      ],
      "execution_count": 6,
      "outputs": [
        {
          "output_type": "execute_result",
          "data": {
            "text/html": [
              "\n",
              "  <div id=\"df-2b25ef9e-232e-49f1-a138-3ea1ddecff9a\">\n",
              "    <div class=\"colab-df-container\">\n",
              "      <div>\n",
              "<style scoped>\n",
              "    .dataframe tbody tr th:only-of-type {\n",
              "        vertical-align: middle;\n",
              "    }\n",
              "\n",
              "    .dataframe tbody tr th {\n",
              "        vertical-align: top;\n",
              "    }\n",
              "\n",
              "    .dataframe thead th {\n",
              "        text-align: right;\n",
              "    }\n",
              "</style>\n",
              "<table border=\"1\" class=\"dataframe\">\n",
              "  <thead>\n",
              "    <tr style=\"text-align: right;\">\n",
              "      <th></th>\n",
              "      <th>MEAN_RR</th>\n",
              "      <th>MEDIAN_RR</th>\n",
              "      <th>SDRR</th>\n",
              "      <th>RMSSD</th>\n",
              "      <th>SDSD</th>\n",
              "      <th>SDRR_RMSSD</th>\n",
              "      <th>HR</th>\n",
              "      <th>pNN25</th>\n",
              "      <th>pNN50</th>\n",
              "      <th>SD1</th>\n",
              "      <th>SD2</th>\n",
              "      <th>KURT</th>\n",
              "      <th>SKEW</th>\n",
              "      <th>MEAN_REL_RR</th>\n",
              "      <th>MEDIAN_REL_RR</th>\n",
              "      <th>SDRR_REL_RR</th>\n",
              "      <th>RMSSD_REL_RR</th>\n",
              "      <th>SDSD_REL_RR</th>\n",
              "      <th>SDRR_RMSSD_REL_RR</th>\n",
              "      <th>KURT_REL_RR</th>\n",
              "      <th>SKEW_REL_RR</th>\n",
              "      <th>VLF</th>\n",
              "      <th>VLF_PCT</th>\n",
              "      <th>LF</th>\n",
              "      <th>LF_PCT</th>\n",
              "      <th>LF_NU</th>\n",
              "      <th>HF</th>\n",
              "      <th>HF_PCT</th>\n",
              "      <th>HF_NU</th>\n",
              "      <th>TP</th>\n",
              "      <th>LF_HF</th>\n",
              "      <th>HF_LF</th>\n",
              "      <th>sampen</th>\n",
              "      <th>higuci</th>\n",
              "      <th>condition</th>\n",
              "    </tr>\n",
              "  </thead>\n",
              "  <tbody>\n",
              "    <tr>\n",
              "      <th>0</th>\n",
              "      <td>885.157845</td>\n",
              "      <td>853.763730</td>\n",
              "      <td>140.972741</td>\n",
              "      <td>15.554505</td>\n",
              "      <td>15.553371</td>\n",
              "      <td>9.063146</td>\n",
              "      <td>69.499952</td>\n",
              "      <td>11.133333</td>\n",
              "      <td>0.533333</td>\n",
              "      <td>11.001565</td>\n",
              "      <td>199.061782</td>\n",
              "      <td>-0.856554</td>\n",
              "      <td>0.335218</td>\n",
              "      <td>-0.000203</td>\n",
              "      <td>-0.000179</td>\n",
              "      <td>0.017080</td>\n",
              "      <td>0.007969</td>\n",
              "      <td>0.007969</td>\n",
              "      <td>2.143342</td>\n",
              "      <td>-0.856554</td>\n",
              "      <td>0.335218</td>\n",
              "      <td>2661.894136</td>\n",
              "      <td>72.203287</td>\n",
              "      <td>1009.249419</td>\n",
              "      <td>27.375666</td>\n",
              "      <td>98.485263</td>\n",
              "      <td>15.522603</td>\n",
              "      <td>0.421047</td>\n",
              "      <td>1.514737</td>\n",
              "      <td>3686.666157</td>\n",
              "      <td>65.018055</td>\n",
              "      <td>0.015380</td>\n",
              "      <td>2.139754</td>\n",
              "      <td>1.163485</td>\n",
              "      <td>no stress</td>\n",
              "    </tr>\n",
              "    <tr>\n",
              "      <th>1</th>\n",
              "      <td>939.425371</td>\n",
              "      <td>948.357865</td>\n",
              "      <td>81.317742</td>\n",
              "      <td>12.964439</td>\n",
              "      <td>12.964195</td>\n",
              "      <td>6.272369</td>\n",
              "      <td>64.363150</td>\n",
              "      <td>5.600000</td>\n",
              "      <td>0.000000</td>\n",
              "      <td>9.170129</td>\n",
              "      <td>114.634458</td>\n",
              "      <td>-0.408190</td>\n",
              "      <td>-0.155286</td>\n",
              "      <td>-0.000059</td>\n",
              "      <td>0.000611</td>\n",
              "      <td>0.013978</td>\n",
              "      <td>0.004769</td>\n",
              "      <td>0.004769</td>\n",
              "      <td>2.930855</td>\n",
              "      <td>-0.408190</td>\n",
              "      <td>-0.155286</td>\n",
              "      <td>2314.265450</td>\n",
              "      <td>76.975728</td>\n",
              "      <td>690.113275</td>\n",
              "      <td>22.954139</td>\n",
              "      <td>99.695397</td>\n",
              "      <td>2.108525</td>\n",
              "      <td>0.070133</td>\n",
              "      <td>0.304603</td>\n",
              "      <td>3006.487251</td>\n",
              "      <td>327.296635</td>\n",
              "      <td>0.003055</td>\n",
              "      <td>2.174499</td>\n",
              "      <td>1.084711</td>\n",
              "      <td>interruption</td>\n",
              "    </tr>\n",
              "    <tr>\n",
              "      <th>2</th>\n",
              "      <td>898.186047</td>\n",
              "      <td>907.006860</td>\n",
              "      <td>84.497236</td>\n",
              "      <td>16.305279</td>\n",
              "      <td>16.305274</td>\n",
              "      <td>5.182201</td>\n",
              "      <td>67.450066</td>\n",
              "      <td>13.066667</td>\n",
              "      <td>0.200000</td>\n",
              "      <td>11.533417</td>\n",
              "      <td>118.939253</td>\n",
              "      <td>0.351789</td>\n",
              "      <td>-0.656813</td>\n",
              "      <td>-0.000011</td>\n",
              "      <td>-0.000263</td>\n",
              "      <td>0.018539</td>\n",
              "      <td>0.008716</td>\n",
              "      <td>0.008716</td>\n",
              "      <td>2.127053</td>\n",
              "      <td>0.351789</td>\n",
              "      <td>-0.656813</td>\n",
              "      <td>1373.887112</td>\n",
              "      <td>51.152225</td>\n",
              "      <td>1298.222619</td>\n",
              "      <td>48.335104</td>\n",
              "      <td>98.950472</td>\n",
              "      <td>13.769729</td>\n",
              "      <td>0.512671</td>\n",
              "      <td>1.049528</td>\n",
              "      <td>2685.879461</td>\n",
              "      <td>94.280910</td>\n",
              "      <td>0.010607</td>\n",
              "      <td>2.135350</td>\n",
              "      <td>1.176315</td>\n",
              "      <td>interruption</td>\n",
              "    </tr>\n",
              "    <tr>\n",
              "      <th>3</th>\n",
              "      <td>881.757865</td>\n",
              "      <td>893.460030</td>\n",
              "      <td>90.370537</td>\n",
              "      <td>15.720468</td>\n",
              "      <td>15.720068</td>\n",
              "      <td>5.748591</td>\n",
              "      <td>68.809562</td>\n",
              "      <td>11.800000</td>\n",
              "      <td>0.133333</td>\n",
              "      <td>11.119476</td>\n",
              "      <td>127.318597</td>\n",
              "      <td>-0.504947</td>\n",
              "      <td>-0.386138</td>\n",
              "      <td>0.000112</td>\n",
              "      <td>0.000494</td>\n",
              "      <td>0.017761</td>\n",
              "      <td>0.008660</td>\n",
              "      <td>0.008660</td>\n",
              "      <td>2.050988</td>\n",
              "      <td>-0.504947</td>\n",
              "      <td>-0.386138</td>\n",
              "      <td>2410.357408</td>\n",
              "      <td>70.180308</td>\n",
              "      <td>1005.981659</td>\n",
              "      <td>29.290305</td>\n",
              "      <td>98.224706</td>\n",
              "      <td>18.181913</td>\n",
              "      <td>0.529387</td>\n",
              "      <td>1.775294</td>\n",
              "      <td>3434.520980</td>\n",
              "      <td>55.328701</td>\n",
              "      <td>0.018074</td>\n",
              "      <td>2.178341</td>\n",
              "      <td>1.179688</td>\n",
              "      <td>no stress</td>\n",
              "    </tr>\n",
              "    <tr>\n",
              "      <th>4</th>\n",
              "      <td>809.625331</td>\n",
              "      <td>811.184865</td>\n",
              "      <td>62.766242</td>\n",
              "      <td>19.213819</td>\n",
              "      <td>19.213657</td>\n",
              "      <td>3.266724</td>\n",
              "      <td>74.565728</td>\n",
              "      <td>20.200000</td>\n",
              "      <td>0.200000</td>\n",
              "      <td>13.590641</td>\n",
              "      <td>87.718281</td>\n",
              "      <td>-0.548408</td>\n",
              "      <td>-0.154252</td>\n",
              "      <td>-0.000100</td>\n",
              "      <td>-0.002736</td>\n",
              "      <td>0.023715</td>\n",
              "      <td>0.013055</td>\n",
              "      <td>0.013055</td>\n",
              "      <td>1.816544</td>\n",
              "      <td>-0.548408</td>\n",
              "      <td>-0.154252</td>\n",
              "      <td>1151.177330</td>\n",
              "      <td>43.918366</td>\n",
              "      <td>1421.782051</td>\n",
              "      <td>54.242160</td>\n",
              "      <td>96.720007</td>\n",
              "      <td>48.215822</td>\n",
              "      <td>1.839473</td>\n",
              "      <td>3.279993</td>\n",
              "      <td>2621.175204</td>\n",
              "      <td>29.487873</td>\n",
              "      <td>0.033912</td>\n",
              "      <td>2.221121</td>\n",
              "      <td>1.249612</td>\n",
              "      <td>no stress</td>\n",
              "    </tr>\n",
              "  </tbody>\n",
              "</table>\n",
              "</div>\n",
              "      <button class=\"colab-df-convert\" onclick=\"convertToInteractive('df-2b25ef9e-232e-49f1-a138-3ea1ddecff9a')\"\n",
              "              title=\"Convert this dataframe to an interactive table.\"\n",
              "              style=\"display:none;\">\n",
              "        \n",
              "  <svg xmlns=\"http://www.w3.org/2000/svg\" height=\"24px\"viewBox=\"0 0 24 24\"\n",
              "       width=\"24px\">\n",
              "    <path d=\"M0 0h24v24H0V0z\" fill=\"none\"/>\n",
              "    <path d=\"M18.56 5.44l.94 2.06.94-2.06 2.06-.94-2.06-.94-.94-2.06-.94 2.06-2.06.94zm-11 1L8.5 8.5l.94-2.06 2.06-.94-2.06-.94L8.5 2.5l-.94 2.06-2.06.94zm10 10l.94 2.06.94-2.06 2.06-.94-2.06-.94-.94-2.06-.94 2.06-2.06.94z\"/><path d=\"M17.41 7.96l-1.37-1.37c-.4-.4-.92-.59-1.43-.59-.52 0-1.04.2-1.43.59L10.3 9.45l-7.72 7.72c-.78.78-.78 2.05 0 2.83L4 21.41c.39.39.9.59 1.41.59.51 0 1.02-.2 1.41-.59l7.78-7.78 2.81-2.81c.8-.78.8-2.07 0-2.86zM5.41 20L4 18.59l7.72-7.72 1.47 1.35L5.41 20z\"/>\n",
              "  </svg>\n",
              "      </button>\n",
              "      \n",
              "  <style>\n",
              "    .colab-df-container {\n",
              "      display:flex;\n",
              "      flex-wrap:wrap;\n",
              "      gap: 12px;\n",
              "    }\n",
              "\n",
              "    .colab-df-convert {\n",
              "      background-color: #E8F0FE;\n",
              "      border: none;\n",
              "      border-radius: 50%;\n",
              "      cursor: pointer;\n",
              "      display: none;\n",
              "      fill: #1967D2;\n",
              "      height: 32px;\n",
              "      padding: 0 0 0 0;\n",
              "      width: 32px;\n",
              "    }\n",
              "\n",
              "    .colab-df-convert:hover {\n",
              "      background-color: #E2EBFA;\n",
              "      box-shadow: 0px 1px 2px rgba(60, 64, 67, 0.3), 0px 1px 3px 1px rgba(60, 64, 67, 0.15);\n",
              "      fill: #174EA6;\n",
              "    }\n",
              "\n",
              "    [theme=dark] .colab-df-convert {\n",
              "      background-color: #3B4455;\n",
              "      fill: #D2E3FC;\n",
              "    }\n",
              "\n",
              "    [theme=dark] .colab-df-convert:hover {\n",
              "      background-color: #434B5C;\n",
              "      box-shadow: 0px 1px 3px 1px rgba(0, 0, 0, 0.15);\n",
              "      filter: drop-shadow(0px 1px 2px rgba(0, 0, 0, 0.3));\n",
              "      fill: #FFFFFF;\n",
              "    }\n",
              "  </style>\n",
              "\n",
              "      <script>\n",
              "        const buttonEl =\n",
              "          document.querySelector('#df-2b25ef9e-232e-49f1-a138-3ea1ddecff9a button.colab-df-convert');\n",
              "        buttonEl.style.display =\n",
              "          google.colab.kernel.accessAllowed ? 'block' : 'none';\n",
              "\n",
              "        async function convertToInteractive(key) {\n",
              "          const element = document.querySelector('#df-2b25ef9e-232e-49f1-a138-3ea1ddecff9a');\n",
              "          const dataTable =\n",
              "            await google.colab.kernel.invokeFunction('convertToInteractive',\n",
              "                                                     [key], {});\n",
              "          if (!dataTable) return;\n",
              "\n",
              "          const docLinkHtml = 'Like what you see? Visit the ' +\n",
              "            '<a target=\"_blank\" href=https://colab.research.google.com/notebooks/data_table.ipynb>data table notebook</a>'\n",
              "            + ' to learn more about interactive tables.';\n",
              "          element.innerHTML = '';\n",
              "          dataTable['output_type'] = 'display_data';\n",
              "          await google.colab.output.renderOutput(dataTable, element);\n",
              "          const docLink = document.createElement('div');\n",
              "          docLink.innerHTML = docLinkHtml;\n",
              "          element.appendChild(docLink);\n",
              "        }\n",
              "      </script>\n",
              "    </div>\n",
              "  </div>\n",
              "  "
            ],
            "text/plain": [
              "      MEAN_RR   MEDIAN_RR        SDRR  ...    sampen    higuci     condition\n",
              "0  885.157845  853.763730  140.972741  ...  2.139754  1.163485     no stress\n",
              "1  939.425371  948.357865   81.317742  ...  2.174499  1.084711  interruption\n",
              "2  898.186047  907.006860   84.497236  ...  2.135350  1.176315  interruption\n",
              "3  881.757865  893.460030   90.370537  ...  2.178341  1.179688     no stress\n",
              "4  809.625331  811.184865   62.766242  ...  2.221121  1.249612     no stress\n",
              "\n",
              "[5 rows x 35 columns]"
            ]
          },
          "metadata": {},
          "execution_count": 6
        },
        {
          "output_type": "stream",
          "name": "stdout",
          "text": [
            "Warning: Total number of columns (35) exceeds max_columns (20) limiting to first (20) columns.\n"
          ]
        }
      ]
    },
    {
      "cell_type": "code",
      "metadata": {
        "colab": {
          "base_uri": "https://localhost:8080/"
        },
        "id": "19aeaede",
        "outputId": "0865918b-38de-467c-e9d7-8f946ad4e201"
      },
      "source": [
        "trainFile['condition'].unique()"
      ],
      "execution_count": 8,
      "outputs": [
        {
          "output_type": "execute_result",
          "data": {
            "text/plain": [
              "array(['no stress', 'interruption', 'time pressure'], dtype=object)"
            ]
          },
          "metadata": {},
          "execution_count": 8
        }
      ]
    },
    {
      "cell_type": "markdown",
      "metadata": {
        "id": "O2z_2MFM0CR_"
      },
      "source": [
        "# **Encoding classification labels in \"Condition\" column**"
      ]
    },
    {
      "cell_type": "code",
      "metadata": {
        "id": "3394c7b3"
      },
      "source": [
        "conditions = dict(trainFile['condition'].value_counts())\n",
        "labels = list(conditions.keys())\n",
        "counts = list(conditions.values())\n",
        "plt.bar(labels,counts, color ='green',\n",
        "        width = 0.4)\n",
        "plt.show()\n",
        "#plt.savefig('D:/PFE/EngineeringThesis/Classification labels.PNG')\n"
      ],
      "execution_count": 9,
      "outputs": []
    },
    {
      "cell_type": "code",
      "metadata": {
        "id": "290fff5d"
      },
      "source": [
        "le = preprocessing.LabelEncoder()\n",
        "le.fit(trainFile['condition'])\n",
        "trainFile['condition'] = le.transform(trainFile['condition'])\n",
        "testFile['condition'] = le.transform(testFile['condition'])"
      ],
      "execution_count": 10,
      "outputs": []
    },
    {
      "cell_type": "markdown",
      "metadata": {
        "id": "_5egc20Z0a23"
      },
      "source": [
        "# **Plotting Pearson's Correlation Matrix to check dependency of variables**"
      ]
    },
    {
      "cell_type": "code",
      "metadata": {
        "id": "6cb5c3ce"
      },
      "source": [
        "plt.figure(figsize=(12,10))\n",
        "corr = trainFile.corr()\n",
        "sns.heatmap(corr, annot=False, cmap=plt.cm.Reds)\n",
        "plt.show()\n",
        "#plt.savefig('D:/PFE/EngineeringThesis/CorrMatrix')"
      ],
      "execution_count": 12,
      "outputs": []
    },
    {
      "cell_type": "markdown",
      "metadata": {
        "id": "Oarr2AqD0jfu"
      },
      "source": [
        "# **Defining a feature selection function**"
      ]
    },
    {
      "cell_type": "code",
      "metadata": {
        "id": "djj8UjpVw7Di"
      },
      "source": [
        "columns = np.full((corr.shape[0],), True, dtype=bool)\n",
        "for i in range(corr.shape[0]):\n",
        "    for j in range(i+1, corr.shape[0]):\n",
        "        if corr.iloc[i,j] >= 0.8:\n",
        "            if columns[j]:\n",
        "                columns[j] = False\n",
        "selected_columns = trainFile.columns[columns]\n",
        "#data = trainFile[selected_columns]"
      ],
      "execution_count": 13,
      "outputs": []
    },
    {
      "cell_type": "code",
      "metadata": {
        "colab": {
          "base_uri": "https://localhost:8080/"
        },
        "id": "b6vsv5LjyEoK",
        "outputId": "00d32c00-3935-4c59-a8f8-e7e0ea1ffb40"
      },
      "source": [
        "selected_columns"
      ],
      "execution_count": 14,
      "outputs": [
        {
          "output_type": "execute_result",
          "data": {
            "text/plain": [
              "Index(['MEAN_RR', 'SDRR', 'RMSSD', 'HR', 'pNN50', 'KURT', 'SKEW',\n",
              "       'MEAN_REL_RR', 'MEDIAN_REL_RR', 'SDRR_RMSSD_REL_RR', 'VLF', 'VLF_PCT',\n",
              "       'LF_PCT', 'LF_NU', 'HF_PCT', 'LF_HF', 'sampen', 'higuci', 'condition'],\n",
              "      dtype='object')"
            ]
          },
          "metadata": {},
          "execution_count": 14
        }
      ]
    },
    {
      "cell_type": "markdown",
      "source": [
        "# plot graph of feature importances for better visualization"
      ],
      "metadata": {
        "id": "bNXvHbiALABE"
      }
    },
    {
      "cell_type": "code",
      "metadata": {
        "id": "z-iK_EhO__5v"
      },
      "source": [
        "from sklearn.ensemble import ExtraTreesClassifier"
      ],
      "execution_count": null,
      "outputs": []
    },
    {
      "cell_type": "code",
      "metadata": {
        "colab": {
          "base_uri": "https://localhost:8080/"
        },
        "id": "ovSaNpqm_70V",
        "outputId": "266587a6-b2f0-46bc-a5c8-b220d5443583"
      },
      "source": [
        "X_train=trainFile[['MEAN_RR', 'SDRR', 'RMSSD', 'HR', 'pNN50', 'KURT', 'SKEW',\n",
        "       'MEDIAN_REL_RR', 'SDRR_RMSSD_REL_RR', 'VLF', 'VLF_PCT',\n",
        "       'LF_PCT', 'LF_NU', 'HF_PCT', 'LF_HF']]\n",
        "y_train=trainFile['condition']\n",
        "model3 = ExtraTreesClassifier()\n",
        "model3.fit(X_train,y_train)"
      ],
      "execution_count": null,
      "outputs": [
        {
          "output_type": "execute_result",
          "data": {
            "text/plain": [
              "ExtraTreesClassifier(bootstrap=False, ccp_alpha=0.0, class_weight=None,\n",
              "                     criterion='gini', max_depth=None, max_features='auto',\n",
              "                     max_leaf_nodes=None, max_samples=None,\n",
              "                     min_impurity_decrease=0.0, min_impurity_split=None,\n",
              "                     min_samples_leaf=1, min_samples_split=2,\n",
              "                     min_weight_fraction_leaf=0.0, n_estimators=100,\n",
              "                     n_jobs=None, oob_score=False, random_state=None, verbose=0,\n",
              "                     warm_start=False)"
            ]
          },
          "metadata": {},
          "execution_count": 19
        }
      ]
    },
    {
      "cell_type": "code",
      "metadata": {
        "colab": {
          "base_uri": "https://localhost:8080/",
          "height": 283
        },
        "id": "mL7p7Jly_0T2",
        "outputId": "766c33d3-ed56-449f-aea8-470f4d5ac993"
      },
      "source": [
        "\n",
        "#plot graph of feature importances for better visualization\n",
        "feature_importances_= pd.Series(model3.feature_importances_, index=X_train.columns)\n",
        "feature_importances_.nlargest(60).plot(kind='barh')\n",
        "plt.figure(figsize=(1500,800))\n",
        "plt.show()"
      ],
      "execution_count": null,
      "outputs": [
        {
          "output_type": "display_data",
          "data": {
            "image/png": "[encoded data removed]",
            "text/plain": [
              "<Figure size 432x288 with 1 Axes>"
            ]
          },
          "metadata": {
            "needs_background": "light"
          }
        },
        {
          "output_type": "display_data",
          "data": {
            "text/plain": [
              "<Figure size 108000x57600 with 0 Axes>"
            ]
          },
          "metadata": {}
        }
      ]
    },
    {
      "cell_type": "code",
      "metadata": {
        "id": "XOfu7nFZFaV1"
      },
      "source": [
        "X_train = trainFile[['MEAN_RR', 'SDRR', 'RMSSD', 'HR', 'pNN50', 'KURT', 'SKEW','MEAN_REL_RR',\n",
        "        'MEDIAN_REL_RR', 'SDRR_RMSSD_REL_RR', 'VLF', 'VLF_PCT',\n",
        "       'LF_PCT', 'LF_NU', 'HF_PCT', 'LF_HF']].to_numpy() #\n",
        "y_train = trainFile['condition'].to_numpy()\n",
        "X_test=testFile[['MEAN_RR', 'SDRR', 'RMSSD', 'HR', 'pNN50', 'KURT', 'SKEW','MEAN_REL_RR',\n",
        "        'MEDIAN_REL_RR', 'SDRR_RMSSD_REL_RR', 'VLF', 'VLF_PCT',\n",
        "       'LF_PCT', 'LF_NU', 'HF_PCT', 'LF_HF']].to_numpy()\n",
        "y_test = testFile['condition'].to_numpy()\n"
      ],
      "execution_count": 15,
      "outputs": []
    },
    {
      "cell_type": "markdown",
      "metadata": {
        "id": "UwE03Ofq0-4U"
      },
      "source": [
        "# **Plotting some of the extracted features**\n"
      ]
    },
    {
      "cell_type": "code",
      "metadata": {
        "colab": {
          "base_uri": "https://localhost:8080/",
          "height": 557
        },
        "id": "41bc5bbb",
        "outputId": "beea83fb-d805-45ec-8974-57514d4dafad"
      },
      "source": [
        "fig, axarr = plt.subplots(2, 2, figsize=(15, 9))\n",
        "reduced_train['MEAN_RR'][:70].plot(ax=axarr[0][0])\n",
        "reduced_train['MEDIAN_RR'][:70].plot(ax=axarr[1][0])\n",
        "reduced_train['MEDIAN_REL_RR'][:70].plot(ax=axarr[0][1])\n",
        "reduced_train['SDRR_RMSSD_REL_RR'][:70].plot(ax=axarr[1][1])\n",
        "axarr[0][0].set_title(\"Mean_RR\")\n",
        "axarr[0][1].set_title(\"Median_RR\")\n",
        "axarr[1][0].set_title(\"Median_Rel_RR\")\n",
        "axarr[1][1].set_title(\"SDRR_RMSSD_REL_RR\")\n",
        "plt.subplots_adjust(hspace=.3)"
      ],
      "execution_count": null,
      "outputs": [
        {
          "data": {
            "image/png": "[encoded data removed]",
            "text/plain": [
              "<Figure size 1080x648 with 4 Axes>"
            ]
          },
          "metadata": {
            "tags": []
          },
          "output_type": "display_data"
        }
      ]
    },
    {
      "cell_type": "code",
      "metadata": {
        "colab": {
          "base_uri": "https://localhost:8080/",
          "height": 367
        },
        "id": "0c4b0a93",
        "outputId": "1222650b-4207-41c4-9de0-0112cfb2005e"
      },
      "source": [
        "reduced_train[['MEAN_RR','MEDIAN_RR']][:70].plot()\n"
      ],
      "execution_count": null,
      "outputs": [
        {
          "data": {
            "text/plain": [
              "<matplotlib.axes._subplots.AxesSubplot at 0x7f83607bcf90>"
            ]
          },
          "execution_count": 39,
          "metadata": {
            "tags": []
          },
          "output_type": "execute_result"
        },
        {
          "data": {
            "image/png": "[encoded data removed]",
            "text/plain": [
              "<Figure size 576x396 with 1 Axes>"
            ]
          },
          "metadata": {
            "tags": []
          },
          "output_type": "display_data"
        }
      ]
    },
    {
      "cell_type": "code",
      "metadata": {
        "id": "5LpCWdyhF2V2"
      },
      "source": [
        "#normalizing features\n",
        "scaler = MinMaxScaler(feature_range=(0,1))\n",
        "X_train = scaler.fit_transform(X_train)#train_samples)\n",
        "X_test = scaler.fit_transform(X_test)"
      ],
      "execution_count": null,
      "outputs": []
    },
    {
      "cell_type": "code",
      "metadata": {
        "id": "xMW5x9LUGKtJ"
      },
      "source": [
        "#one-hot-encoding labels\n",
        "one_hot_encoder = OneHotEncoder(categories='auto')\n",
        "y_train = one_hot_encoder.fit_transform(y_train.reshape(-1, 1)).toarray()\n",
        "y_test = one_hot_encoder.fit_transform(y_test.reshape(-1, 1)).toarray()"
      ],
      "execution_count": null,
      "outputs": []
    },
    {
      "cell_type": "markdown",
      "metadata": {
        "id": "8cc5cdca"
      },
      "source": [
        "## **Defining a \"ANN\" model and training it**\n",
        "\n"
      ]
    },
    {
      "cell_type": "code",
      "metadata": {
        "id": "CJb-ER_kGl0n"
      },
      "source": [
        "model = Sequential([\n",
        "    Dense(16 , kernel_initializer='glorot_uniform', input_shape=[16,], activation='relu'),\n",
        "   #keras.layers.Dropout(0.2),\n",
        "  Dense(14 , kernel_initializer='glorot_uniform', activation='relu'),\n",
        "    Dense(12 , kernel_initializer='glorot_uniform', activation='relu'),\n",
        "    Dense(10, kernel_initializer='glorot_uniform', activation='relu'),\n",
        "    #keras.layers.Dropout(0.2),\n",
        "     Dense(8, kernel_initializer='glorot_uniform', activation='relu'),\n",
        "    Dense(6, kernel_initializer='glorot_uniform', activation='relu'),\n",
        "     #keras.layers.Dropout(0.2),\n",
        "    Dense(3, kernel_initializer='glorot_uniform', activation='softmax')\n",
        "])"
      ],
      "execution_count": null,
      "outputs": []
    },
    {
      "cell_type": "code",
      "metadata": {
        "id": "TJ-qIL0jGp-g"
      },
      "source": [
        "model.compile(Adam(),\n",
        "              loss='categorical_crossentropy',\n",
        "              metrics=['accuracy'])"
      ],
      "execution_count": null,
      "outputs": []
    },
    {
      "cell_type": "code",
      "metadata": {
        "colab": {
          "base_uri": "https://localhost:8080/"
        },
        "id": "igAyyBTFGs9X",
        "outputId": "a6c140fe-5c39-4609-d3db-bbbe69c1f918"
      },
      "source": [
        "model.fit(X_train, y_train, validation_split=0.1, batch_size=128, epochs=500, shuffle=True, verbose=2)"
      ],
      "execution_count": null,
      "outputs": [
        {
          "output_type": "stream",
          "name": "stdout",
          "text": [
            "Epoch 1/500\n",
            "2597/2597 - 5s - loss: 0.6883 - accuracy: 0.6969 - val_loss: 0.5480 - val_accuracy: 0.7658\n",
            "Epoch 2/500\n",
            "2597/2597 - 4s - loss: 0.4769 - accuracy: 0.8012 - val_loss: 0.4431 - val_accuracy: 0.8238\n",
            "Epoch 3/500\n",
            "2597/2597 - 3s - loss: 0.3884 - accuracy: 0.8424 - val_loss: 0.3541 - val_accuracy: 0.8599\n",
            "Epoch 4/500\n",
            "2597/2597 - 3s - loss: 0.3413 - accuracy: 0.8650 - val_loss: 0.3157 - val_accuracy: 0.8791\n",
            "Epoch 5/500\n",
            "2597/2597 - 3s - loss: 0.3078 - accuracy: 0.8806 - val_loss: 0.2909 - val_accuracy: 0.8890\n",
            "Epoch 6/500\n",
            "2597/2597 - 3s - loss: 0.2769 - accuracy: 0.8927 - val_loss: 0.2756 - val_accuracy: 0.8918\n",
            "Epoch 7/500\n",
            "2597/2597 - 3s - loss: 0.2539 - accuracy: 0.9010 - val_loss: 0.2493 - val_accuracy: 0.9055\n",
            "Epoch 8/500\n",
            "2597/2597 - 3s - loss: 0.2386 - accuracy: 0.9079 - val_loss: 0.2607 - val_accuracy: 0.8977\n",
            "Epoch 9/500\n",
            "2597/2597 - 4s - loss: 0.2255 - accuracy: 0.9136 - val_loss: 0.2064 - val_accuracy: 0.9223\n",
            "Epoch 10/500\n",
            "2597/2597 - 3s - loss: 0.2126 - accuracy: 0.9192 - val_loss: 0.2150 - val_accuracy: 0.9182\n",
            "Epoch 11/500\n",
            "2597/2597 - 3s - loss: 0.2031 - accuracy: 0.9242 - val_loss: 0.2090 - val_accuracy: 0.9184\n",
            "Epoch 12/500\n",
            "2597/2597 - 4s - loss: 0.1922 - accuracy: 0.9289 - val_loss: 0.2022 - val_accuracy: 0.9239\n",
            "Epoch 13/500\n",
            "2597/2597 - 3s - loss: 0.1863 - accuracy: 0.9315 - val_loss: 0.1905 - val_accuracy: 0.9314\n",
            "Epoch 14/500\n",
            "2597/2597 - 3s - loss: 0.1796 - accuracy: 0.9348 - val_loss: 0.1985 - val_accuracy: 0.9304\n",
            "Epoch 15/500\n",
            "2597/2597 - 3s - loss: 0.1762 - accuracy: 0.9359 - val_loss: 0.1647 - val_accuracy: 0.9368\n",
            "Epoch 16/500\n",
            "2597/2597 - 3s - loss: 0.1708 - accuracy: 0.9378 - val_loss: 0.1611 - val_accuracy: 0.9426\n",
            "Epoch 17/500\n",
            "2597/2597 - 3s - loss: 0.1657 - accuracy: 0.9394 - val_loss: 0.1484 - val_accuracy: 0.9465\n",
            "Epoch 18/500\n",
            "2597/2597 - 3s - loss: 0.1615 - accuracy: 0.9416 - val_loss: 0.1697 - val_accuracy: 0.9365\n",
            "Epoch 19/500\n",
            "2597/2597 - 4s - loss: 0.1581 - accuracy: 0.9428 - val_loss: 0.1586 - val_accuracy: 0.9390\n",
            "Epoch 20/500\n",
            "2597/2597 - 3s - loss: 0.1542 - accuracy: 0.9447 - val_loss: 0.1609 - val_accuracy: 0.9436\n",
            "Epoch 21/500\n",
            "2597/2597 - 3s - loss: 0.1509 - accuracy: 0.9459 - val_loss: 0.1440 - val_accuracy: 0.9481\n",
            "Epoch 22/500\n",
            "2597/2597 - 3s - loss: 0.1471 - accuracy: 0.9475 - val_loss: 0.1695 - val_accuracy: 0.9395\n",
            "Epoch 23/500\n",
            "2597/2597 - 3s - loss: 0.1421 - accuracy: 0.9497 - val_loss: 0.1410 - val_accuracy: 0.9527\n",
            "Epoch 24/500\n",
            "2597/2597 - 3s - loss: 0.1370 - accuracy: 0.9520 - val_loss: 0.1491 - val_accuracy: 0.9471\n",
            "Epoch 25/500\n",
            "2597/2597 - 3s - loss: 0.1345 - accuracy: 0.9528 - val_loss: 0.1379 - val_accuracy: 0.9519\n",
            "Epoch 26/500\n",
            "2597/2597 - 3s - loss: 0.1284 - accuracy: 0.9555 - val_loss: 0.1213 - val_accuracy: 0.9595\n",
            "Epoch 27/500\n",
            "2597/2597 - 3s - loss: 0.1250 - accuracy: 0.9569 - val_loss: 0.1124 - val_accuracy: 0.9640\n",
            "Epoch 28/500\n",
            "2597/2597 - 3s - loss: 0.1240 - accuracy: 0.9571 - val_loss: 0.1291 - val_accuracy: 0.9566\n",
            "Epoch 29/500\n",
            "2597/2597 - 3s - loss: 0.1194 - accuracy: 0.9589 - val_loss: 0.1146 - val_accuracy: 0.9614\n",
            "Epoch 30/500\n",
            "2597/2597 - 3s - loss: 0.1167 - accuracy: 0.9593 - val_loss: 0.1051 - val_accuracy: 0.9644\n",
            "Epoch 31/500\n",
            "2597/2597 - 3s - loss: 0.1161 - accuracy: 0.9600 - val_loss: 0.1310 - val_accuracy: 0.9547\n",
            "Epoch 32/500\n",
            "2597/2597 - 3s - loss: 0.1124 - accuracy: 0.9613 - val_loss: 0.1123 - val_accuracy: 0.9597\n",
            "Epoch 33/500\n",
            "2597/2597 - 3s - loss: 0.1100 - accuracy: 0.9619 - val_loss: 0.1109 - val_accuracy: 0.9614\n",
            "Epoch 34/500\n",
            "2597/2597 - 4s - loss: 0.1078 - accuracy: 0.9627 - val_loss: 0.1168 - val_accuracy: 0.9608\n",
            "Epoch 35/500\n",
            "2597/2597 - 3s - loss: 0.1038 - accuracy: 0.9640 - val_loss: 0.1347 - val_accuracy: 0.9522\n",
            "Epoch 36/500\n",
            "2597/2597 - 3s - loss: 0.1020 - accuracy: 0.9646 - val_loss: 0.1007 - val_accuracy: 0.9658\n",
            "Epoch 37/500\n",
            "2597/2597 - 3s - loss: 0.0986 - accuracy: 0.9660 - val_loss: 0.0934 - val_accuracy: 0.9675\n",
            "Epoch 38/500\n",
            "2597/2597 - 3s - loss: 0.0951 - accuracy: 0.9670 - val_loss: 0.0768 - val_accuracy: 0.9749\n",
            "Epoch 39/500\n",
            "2597/2597 - 3s - loss: 0.0916 - accuracy: 0.9681 - val_loss: 0.0767 - val_accuracy: 0.9744\n",
            "Epoch 40/500\n",
            "2597/2597 - 3s - loss: 0.0916 - accuracy: 0.9681 - val_loss: 0.0925 - val_accuracy: 0.9688\n",
            "Epoch 41/500\n",
            "2597/2597 - 3s - loss: 0.0896 - accuracy: 0.9690 - val_loss: 0.0895 - val_accuracy: 0.9681\n",
            "Epoch 42/500\n",
            "2597/2597 - 3s - loss: 0.0890 - accuracy: 0.9691 - val_loss: 0.1015 - val_accuracy: 0.9644\n",
            "Epoch 43/500\n",
            "2597/2597 - 3s - loss: 0.0841 - accuracy: 0.9707 - val_loss: 0.0819 - val_accuracy: 0.9720\n",
            "Epoch 44/500\n",
            "2597/2597 - 3s - loss: 0.0833 - accuracy: 0.9712 - val_loss: 0.0809 - val_accuracy: 0.9713\n",
            "Epoch 45/500\n",
            "2597/2597 - 4s - loss: 0.0833 - accuracy: 0.9713 - val_loss: 0.0689 - val_accuracy: 0.9770\n",
            "Epoch 46/500\n",
            "2597/2597 - 3s - loss: 0.0805 - accuracy: 0.9721 - val_loss: 0.0764 - val_accuracy: 0.9725\n",
            "Epoch 47/500\n",
            "2597/2597 - 3s - loss: 0.0813 - accuracy: 0.9718 - val_loss: 0.0834 - val_accuracy: 0.9721\n",
            "Epoch 48/500\n",
            "2597/2597 - 3s - loss: 0.0789 - accuracy: 0.9727 - val_loss: 0.0661 - val_accuracy: 0.9788\n",
            "Epoch 49/500\n",
            "2597/2597 - 3s - loss: 0.0793 - accuracy: 0.9727 - val_loss: 0.1048 - val_accuracy: 0.9622\n",
            "Epoch 50/500\n",
            "2597/2597 - 4s - loss: 0.0761 - accuracy: 0.9737 - val_loss: 0.0797 - val_accuracy: 0.9724\n",
            "Epoch 51/500\n",
            "2597/2597 - 3s - loss: 0.0757 - accuracy: 0.9739 - val_loss: 0.0760 - val_accuracy: 0.9727\n",
            "Epoch 52/500\n",
            "2597/2597 - 3s - loss: 0.0739 - accuracy: 0.9745 - val_loss: 0.0587 - val_accuracy: 0.9819\n",
            "Epoch 53/500\n",
            "2597/2597 - 3s - loss: 0.0758 - accuracy: 0.9739 - val_loss: 0.0792 - val_accuracy: 0.9710\n",
            "Epoch 54/500\n",
            "2597/2597 - 3s - loss: 0.0728 - accuracy: 0.9748 - val_loss: 0.0696 - val_accuracy: 0.9761\n",
            "Epoch 55/500\n",
            "2597/2597 - 3s - loss: 0.0712 - accuracy: 0.9754 - val_loss: 0.1479 - val_accuracy: 0.9511\n",
            "Epoch 56/500\n",
            "2597/2597 - 3s - loss: 0.0698 - accuracy: 0.9762 - val_loss: 0.0921 - val_accuracy: 0.9687\n",
            "Epoch 57/500\n",
            "2597/2597 - 3s - loss: 0.0693 - accuracy: 0.9760 - val_loss: 0.0756 - val_accuracy: 0.9738\n",
            "Epoch 58/500\n",
            "2597/2597 - 3s - loss: 0.0691 - accuracy: 0.9764 - val_loss: 0.0539 - val_accuracy: 0.9814\n",
            "Epoch 59/500\n",
            "2597/2597 - 3s - loss: 0.0688 - accuracy: 0.9764 - val_loss: 0.0803 - val_accuracy: 0.9729\n",
            "Epoch 60/500\n",
            "2597/2597 - 3s - loss: 0.0674 - accuracy: 0.9769 - val_loss: 0.0659 - val_accuracy: 0.9773\n",
            "Epoch 61/500\n",
            "2597/2597 - 3s - loss: 0.0666 - accuracy: 0.9775 - val_loss: 0.0619 - val_accuracy: 0.9784\n",
            "Epoch 62/500\n",
            "2597/2597 - 3s - loss: 0.0663 - accuracy: 0.9770 - val_loss: 0.0645 - val_accuracy: 0.9788\n",
            "Epoch 63/500\n",
            "2597/2597 - 3s - loss: 0.0647 - accuracy: 0.9782 - val_loss: 0.0736 - val_accuracy: 0.9735\n",
            "Epoch 64/500\n",
            "2597/2597 - 3s - loss: 0.0646 - accuracy: 0.9781 - val_loss: 0.0778 - val_accuracy: 0.9750\n",
            "Epoch 65/500\n",
            "2597/2597 - 3s - loss: 0.0639 - accuracy: 0.9783 - val_loss: 0.0767 - val_accuracy: 0.9761\n",
            "Epoch 66/500\n",
            "2597/2597 - 3s - loss: 0.0643 - accuracy: 0.9785 - val_loss: 0.0712 - val_accuracy: 0.9766\n",
            "Epoch 67/500\n",
            "2597/2597 - 3s - loss: 0.0627 - accuracy: 0.9789 - val_loss: 0.0712 - val_accuracy: 0.9765\n",
            "Epoch 68/500\n",
            "2597/2597 - 3s - loss: 0.0597 - accuracy: 0.9800 - val_loss: 0.0734 - val_accuracy: 0.9731\n",
            "Epoch 69/500\n",
            "2597/2597 - 3s - loss: 0.0621 - accuracy: 0.9791 - val_loss: 0.0576 - val_accuracy: 0.9803\n",
            "Epoch 70/500\n",
            "2597/2597 - 3s - loss: 0.0612 - accuracy: 0.9794 - val_loss: 0.0473 - val_accuracy: 0.9845\n",
            "Epoch 71/500\n",
            "2597/2597 - 3s - loss: 0.0601 - accuracy: 0.9797 - val_loss: 0.0526 - val_accuracy: 0.9829\n",
            "Epoch 72/500\n",
            "2597/2597 - 3s - loss: 0.0577 - accuracy: 0.9805 - val_loss: 0.0528 - val_accuracy: 0.9823\n",
            "Epoch 73/500\n",
            "2597/2597 - 3s - loss: 0.0605 - accuracy: 0.9797 - val_loss: 0.0520 - val_accuracy: 0.9830\n",
            "Epoch 74/500\n",
            "2597/2597 - 3s - loss: 0.0580 - accuracy: 0.9805 - val_loss: 0.0740 - val_accuracy: 0.9758\n",
            "Epoch 75/500\n",
            "2597/2597 - 3s - loss: 0.0587 - accuracy: 0.9804 - val_loss: 0.0628 - val_accuracy: 0.9794\n",
            "Epoch 76/500\n",
            "2597/2597 - 3s - loss: 0.0588 - accuracy: 0.9801 - val_loss: 0.0511 - val_accuracy: 0.9826\n",
            "Epoch 77/500\n",
            "2597/2597 - 3s - loss: 0.0566 - accuracy: 0.9810 - val_loss: 0.0474 - val_accuracy: 0.9854\n",
            "Epoch 78/500\n",
            "2597/2597 - 3s - loss: 0.0565 - accuracy: 0.9809 - val_loss: 0.0720 - val_accuracy: 0.9752\n",
            "Epoch 79/500\n",
            "2597/2597 - 3s - loss: 0.0584 - accuracy: 0.9806 - val_loss: 0.0485 - val_accuracy: 0.9838\n",
            "Epoch 80/500\n",
            "2597/2597 - 3s - loss: 0.0549 - accuracy: 0.9815 - val_loss: 0.0480 - val_accuracy: 0.9842\n",
            "Epoch 81/500\n",
            "2597/2597 - 3s - loss: 0.0550 - accuracy: 0.9814 - val_loss: 0.0544 - val_accuracy: 0.9811\n",
            "Epoch 82/500\n",
            "2597/2597 - 3s - loss: 0.0567 - accuracy: 0.9810 - val_loss: 0.0422 - val_accuracy: 0.9859\n",
            "Epoch 83/500\n",
            "2597/2597 - 3s - loss: 0.0549 - accuracy: 0.9814 - val_loss: 0.0462 - val_accuracy: 0.9841\n",
            "Epoch 84/500\n",
            "2597/2597 - 3s - loss: 0.0546 - accuracy: 0.9818 - val_loss: 0.0436 - val_accuracy: 0.9857\n",
            "Epoch 85/500\n",
            "2597/2597 - 4s - loss: 0.0530 - accuracy: 0.9820 - val_loss: 0.0502 - val_accuracy: 0.9830\n",
            "Epoch 86/500\n",
            "2597/2597 - 4s - loss: 0.0530 - accuracy: 0.9822 - val_loss: 0.0411 - val_accuracy: 0.9865\n",
            "Epoch 87/500\n",
            "2597/2597 - 3s - loss: 0.0536 - accuracy: 0.9819 - val_loss: 0.0696 - val_accuracy: 0.9758\n",
            "Epoch 88/500\n",
            "2597/2597 - 3s - loss: 0.0531 - accuracy: 0.9820 - val_loss: 0.0488 - val_accuracy: 0.9842\n",
            "Epoch 89/500\n",
            "2597/2597 - 3s - loss: 0.0503 - accuracy: 0.9833 - val_loss: 0.0434 - val_accuracy: 0.9858\n",
            "Epoch 90/500\n",
            "2597/2597 - 3s - loss: 0.0526 - accuracy: 0.9821 - val_loss: 0.0459 - val_accuracy: 0.9856\n",
            "Epoch 91/500\n",
            "2597/2597 - 3s - loss: 0.0502 - accuracy: 0.9832 - val_loss: 0.0587 - val_accuracy: 0.9822\n",
            "Epoch 92/500\n",
            "2597/2597 - 3s - loss: 0.0503 - accuracy: 0.9830 - val_loss: 0.0658 - val_accuracy: 0.9777\n",
            "Epoch 93/500\n",
            "2597/2597 - 3s - loss: 0.0505 - accuracy: 0.9832 - val_loss: 0.0436 - val_accuracy: 0.9850\n",
            "Epoch 94/500\n",
            "2597/2597 - 3s - loss: 0.0501 - accuracy: 0.9831 - val_loss: 0.0432 - val_accuracy: 0.9854\n",
            "Epoch 95/500\n",
            "2597/2597 - 3s - loss: 0.0503 - accuracy: 0.9833 - val_loss: 0.0525 - val_accuracy: 0.9815\n",
            "Epoch 96/500\n",
            "2597/2597 - 3s - loss: 0.0504 - accuracy: 0.9832 - val_loss: 0.0450 - val_accuracy: 0.9860\n",
            "Epoch 97/500\n",
            "2597/2597 - 3s - loss: 0.0499 - accuracy: 0.9832 - val_loss: 0.0660 - val_accuracy: 0.9778\n",
            "Epoch 98/500\n",
            "2597/2597 - 3s - loss: 0.0486 - accuracy: 0.9838 - val_loss: 0.0620 - val_accuracy: 0.9816\n",
            "Epoch 99/500\n",
            "2597/2597 - 3s - loss: 0.0489 - accuracy: 0.9836 - val_loss: 0.0577 - val_accuracy: 0.9808\n",
            "Epoch 100/500\n",
            "2597/2597 - 3s - loss: 0.0474 - accuracy: 0.9841 - val_loss: 0.0724 - val_accuracy: 0.9750\n",
            "Epoch 101/500\n",
            "2597/2597 - 3s - loss: 0.0478 - accuracy: 0.9840 - val_loss: 0.0516 - val_accuracy: 0.9839\n",
            "Epoch 102/500\n",
            "2597/2597 - 3s - loss: 0.0482 - accuracy: 0.9838 - val_loss: 0.0736 - val_accuracy: 0.9750\n",
            "Epoch 103/500\n",
            "2597/2597 - 3s - loss: 0.0469 - accuracy: 0.9842 - val_loss: 0.0529 - val_accuracy: 0.9820\n",
            "Epoch 104/500\n",
            "2597/2597 - 3s - loss: 0.0467 - accuracy: 0.9845 - val_loss: 0.0464 - val_accuracy: 0.9836\n",
            "Epoch 105/500\n",
            "2597/2597 - 3s - loss: 0.0475 - accuracy: 0.9840 - val_loss: 0.0451 - val_accuracy: 0.9856\n",
            "Epoch 106/500\n",
            "2597/2597 - 3s - loss: 0.0446 - accuracy: 0.9850 - val_loss: 0.0447 - val_accuracy: 0.9846\n",
            "Epoch 107/500\n",
            "2597/2597 - 3s - loss: 0.0465 - accuracy: 0.9846 - val_loss: 0.0474 - val_accuracy: 0.9837\n",
            "Epoch 108/500\n",
            "2597/2597 - 3s - loss: 0.0444 - accuracy: 0.9851 - val_loss: 0.0551 - val_accuracy: 0.9821\n",
            "Epoch 109/500\n",
            "2597/2597 - 3s - loss: 0.0453 - accuracy: 0.9849 - val_loss: 0.0790 - val_accuracy: 0.9727\n",
            "Epoch 110/500\n",
            "2597/2597 - 3s - loss: 0.0449 - accuracy: 0.9850 - val_loss: 0.0385 - val_accuracy: 0.9883\n",
            "Epoch 111/500\n",
            "2597/2597 - 3s - loss: 0.0443 - accuracy: 0.9850 - val_loss: 0.0422 - val_accuracy: 0.9864\n",
            "Epoch 112/500\n",
            "2597/2597 - 3s - loss: 0.0437 - accuracy: 0.9854 - val_loss: 0.0442 - val_accuracy: 0.9855\n",
            "Epoch 113/500\n",
            "2597/2597 - 3s - loss: 0.0447 - accuracy: 0.9852 - val_loss: 0.0333 - val_accuracy: 0.9894\n",
            "Epoch 114/500\n",
            "2597/2597 - 3s - loss: 0.0419 - accuracy: 0.9860 - val_loss: 0.0516 - val_accuracy: 0.9832\n",
            "Epoch 115/500\n",
            "2597/2597 - 3s - loss: 0.0435 - accuracy: 0.9855 - val_loss: 0.0383 - val_accuracy: 0.9877\n",
            "Epoch 116/500\n",
            "2597/2597 - 3s - loss: 0.0424 - accuracy: 0.9859 - val_loss: 0.0335 - val_accuracy: 0.9898\n",
            "Epoch 117/500\n",
            "2597/2597 - 3s - loss: 0.0420 - accuracy: 0.9860 - val_loss: 0.0398 - val_accuracy: 0.9859\n",
            "Epoch 118/500\n",
            "2597/2597 - 3s - loss: 0.0438 - accuracy: 0.9854 - val_loss: 0.0493 - val_accuracy: 0.9839\n",
            "Epoch 119/500\n",
            "2597/2597 - 3s - loss: 0.0411 - accuracy: 0.9864 - val_loss: 0.0560 - val_accuracy: 0.9816\n",
            "Epoch 120/500\n",
            "2597/2597 - 3s - loss: 0.0414 - accuracy: 0.9861 - val_loss: 0.0356 - val_accuracy: 0.9886\n",
            "Epoch 121/500\n",
            "2597/2597 - 3s - loss: 0.0416 - accuracy: 0.9861 - val_loss: 0.0314 - val_accuracy: 0.9908\n",
            "Epoch 122/500\n",
            "2597/2597 - 3s - loss: 0.0424 - accuracy: 0.9859 - val_loss: 0.0388 - val_accuracy: 0.9879\n",
            "Epoch 123/500\n",
            "2597/2597 - 3s - loss: 0.0407 - accuracy: 0.9866 - val_loss: 0.0423 - val_accuracy: 0.9861\n",
            "Epoch 124/500\n",
            "2597/2597 - 3s - loss: 0.0408 - accuracy: 0.9866 - val_loss: 0.0346 - val_accuracy: 0.9886\n",
            "Epoch 125/500\n",
            "2597/2597 - 3s - loss: 0.0413 - accuracy: 0.9863 - val_loss: 0.0390 - val_accuracy: 0.9873\n",
            "Epoch 126/500\n",
            "2597/2597 - 3s - loss: 0.0398 - accuracy: 0.9867 - val_loss: 0.0310 - val_accuracy: 0.9898\n",
            "Epoch 127/500\n",
            "2597/2597 - 3s - loss: 0.0401 - accuracy: 0.9865 - val_loss: 0.0588 - val_accuracy: 0.9843\n",
            "Epoch 128/500\n",
            "2597/2597 - 3s - loss: 0.0396 - accuracy: 0.9869 - val_loss: 0.0369 - val_accuracy: 0.9882\n",
            "Epoch 129/500\n",
            "2597/2597 - 3s - loss: 0.0402 - accuracy: 0.9867 - val_loss: 0.0387 - val_accuracy: 0.9879\n",
            "Epoch 130/500\n",
            "2597/2597 - 3s - loss: 0.0397 - accuracy: 0.9867 - val_loss: 0.0547 - val_accuracy: 0.9812\n",
            "Epoch 131/500\n",
            "2597/2597 - 3s - loss: 0.0391 - accuracy: 0.9866 - val_loss: 0.0377 - val_accuracy: 0.9873\n",
            "Epoch 132/500\n",
            "2597/2597 - 3s - loss: 0.0403 - accuracy: 0.9866 - val_loss: 0.0421 - val_accuracy: 0.9860\n",
            "Epoch 133/500\n",
            "2597/2597 - 3s - loss: 0.0387 - accuracy: 0.9869 - val_loss: 0.0323 - val_accuracy: 0.9893\n",
            "Epoch 134/500\n",
            "2597/2597 - 3s - loss: 0.0391 - accuracy: 0.9868 - val_loss: 0.0353 - val_accuracy: 0.9887\n",
            "Epoch 135/500\n",
            "2597/2597 - 3s - loss: 0.0380 - accuracy: 0.9873 - val_loss: 0.0372 - val_accuracy: 0.9875\n",
            "Epoch 136/500\n",
            "2597/2597 - 3s - loss: 0.0379 - accuracy: 0.9874 - val_loss: 0.0442 - val_accuracy: 0.9849\n",
            "Epoch 137/500\n",
            "2597/2597 - 3s - loss: 0.0405 - accuracy: 0.9865 - val_loss: 0.0467 - val_accuracy: 0.9838\n",
            "Epoch 138/500\n",
            "2597/2597 - 3s - loss: 0.0376 - accuracy: 0.9875 - val_loss: 0.0397 - val_accuracy: 0.9868\n",
            "Epoch 139/500\n",
            "2597/2597 - 3s - loss: 0.0400 - accuracy: 0.9867 - val_loss: 0.0388 - val_accuracy: 0.9867\n",
            "Epoch 140/500\n",
            "2597/2597 - 3s - loss: 0.0366 - accuracy: 0.9878 - val_loss: 0.0310 - val_accuracy: 0.9908\n",
            "Epoch 141/500\n",
            "2597/2597 - 3s - loss: 0.0390 - accuracy: 0.9868 - val_loss: 0.0631 - val_accuracy: 0.9797\n",
            "Epoch 142/500\n",
            "2597/2597 - 3s - loss: 0.0366 - accuracy: 0.9878 - val_loss: 0.0322 - val_accuracy: 0.9899\n",
            "Epoch 143/500\n",
            "2597/2597 - 3s - loss: 0.0376 - accuracy: 0.9874 - val_loss: 0.0659 - val_accuracy: 0.9787\n",
            "Epoch 144/500\n",
            "2597/2597 - 3s - loss: 0.0366 - accuracy: 0.9880 - val_loss: 0.0381 - val_accuracy: 0.9876\n",
            "Epoch 145/500\n",
            "2597/2597 - 3s - loss: 0.0367 - accuracy: 0.9878 - val_loss: 0.0248 - val_accuracy: 0.9927\n",
            "Epoch 146/500\n",
            "2597/2597 - 3s - loss: 0.0370 - accuracy: 0.9877 - val_loss: 0.0302 - val_accuracy: 0.9903\n",
            "Epoch 147/500\n",
            "2597/2597 - 3s - loss: 0.0360 - accuracy: 0.9880 - val_loss: 0.0430 - val_accuracy: 0.9857\n",
            "Epoch 148/500\n",
            "2597/2597 - 3s - loss: 0.0367 - accuracy: 0.9878 - val_loss: 0.0329 - val_accuracy: 0.9896\n",
            "Epoch 149/500\n",
            "2597/2597 - 3s - loss: 0.0365 - accuracy: 0.9878 - val_loss: 0.0460 - val_accuracy: 0.9848\n",
            "Epoch 150/500\n",
            "2597/2597 - 3s - loss: 0.0350 - accuracy: 0.9886 - val_loss: 0.0330 - val_accuracy: 0.9899\n",
            "Epoch 151/500\n",
            "2597/2597 - 3s - loss: 0.0349 - accuracy: 0.9886 - val_loss: 0.0300 - val_accuracy: 0.9905\n",
            "Epoch 152/500\n",
            "2597/2597 - 3s - loss: 0.0366 - accuracy: 0.9877 - val_loss: 0.0358 - val_accuracy: 0.9872\n",
            "Epoch 153/500\n",
            "2597/2597 - 3s - loss: 0.0343 - accuracy: 0.9886 - val_loss: 0.0259 - val_accuracy: 0.9925\n",
            "Epoch 154/500\n",
            "2597/2597 - 3s - loss: 0.0355 - accuracy: 0.9882 - val_loss: 0.0381 - val_accuracy: 0.9875\n",
            "Epoch 155/500\n",
            "2597/2597 - 3s - loss: 0.0360 - accuracy: 0.9884 - val_loss: 0.0337 - val_accuracy: 0.9890\n",
            "Epoch 156/500\n",
            "2597/2597 - 3s - loss: 0.0346 - accuracy: 0.9886 - val_loss: 0.0428 - val_accuracy: 0.9856\n",
            "Epoch 157/500\n",
            "2597/2597 - 3s - loss: 0.0355 - accuracy: 0.9883 - val_loss: 0.0490 - val_accuracy: 0.9843\n",
            "Epoch 158/500\n",
            "2597/2597 - 3s - loss: 0.0348 - accuracy: 0.9884 - val_loss: 0.0253 - val_accuracy: 0.9925\n",
            "Epoch 159/500\n",
            "2597/2597 - 3s - loss: 0.0346 - accuracy: 0.9886 - val_loss: 0.0336 - val_accuracy: 0.9888\n",
            "Epoch 160/500\n",
            "2597/2597 - 3s - loss: 0.0355 - accuracy: 0.9884 - val_loss: 0.0322 - val_accuracy: 0.9899\n",
            "Epoch 161/500\n",
            "2597/2597 - 3s - loss: 0.0331 - accuracy: 0.9892 - val_loss: 0.0348 - val_accuracy: 0.9887\n",
            "Epoch 162/500\n",
            "2597/2597 - 3s - loss: 0.0333 - accuracy: 0.9890 - val_loss: 0.0334 - val_accuracy: 0.9896\n",
            "Epoch 163/500\n",
            "2597/2597 - 3s - loss: 0.0339 - accuracy: 0.9887 - val_loss: 0.0450 - val_accuracy: 0.9861\n",
            "Epoch 164/500\n",
            "2597/2597 - 3s - loss: 0.0335 - accuracy: 0.9891 - val_loss: 0.0396 - val_accuracy: 0.9866\n",
            "Epoch 165/500\n",
            "2597/2597 - 3s - loss: 0.0331 - accuracy: 0.9890 - val_loss: 0.0313 - val_accuracy: 0.9905\n",
            "Epoch 166/500\n",
            "2597/2597 - 3s - loss: 0.0335 - accuracy: 0.9892 - val_loss: 0.0650 - val_accuracy: 0.9786\n",
            "Epoch 167/500\n",
            "2597/2597 - 3s - loss: 0.0334 - accuracy: 0.9891 - val_loss: 0.0294 - val_accuracy: 0.9906\n",
            "Epoch 168/500\n",
            "2597/2597 - 3s - loss: 0.0334 - accuracy: 0.9891 - val_loss: 0.0262 - val_accuracy: 0.9910\n",
            "Epoch 169/500\n",
            "2597/2597 - 3s - loss: 0.0338 - accuracy: 0.9889 - val_loss: 0.0209 - val_accuracy: 0.9942\n",
            "Epoch 170/500\n",
            "2597/2597 - 3s - loss: 0.0316 - accuracy: 0.9898 - val_loss: 0.0323 - val_accuracy: 0.9907\n",
            "Epoch 171/500\n",
            "2597/2597 - 3s - loss: 0.0334 - accuracy: 0.9890 - val_loss: 0.0328 - val_accuracy: 0.9894\n",
            "Epoch 172/500\n",
            "2597/2597 - 3s - loss: 0.0334 - accuracy: 0.9892 - val_loss: 0.0491 - val_accuracy: 0.9839\n",
            "Epoch 173/500\n",
            "2597/2597 - 3s - loss: 0.0311 - accuracy: 0.9898 - val_loss: 0.0282 - val_accuracy: 0.9914\n",
            "Epoch 174/500\n",
            "2597/2597 - 4s - loss: 0.0317 - accuracy: 0.9898 - val_loss: 0.0560 - val_accuracy: 0.9841\n",
            "Epoch 175/500\n",
            "2597/2597 - 3s - loss: 0.0314 - accuracy: 0.9898 - val_loss: 0.0423 - val_accuracy: 0.9879\n",
            "Epoch 176/500\n",
            "2597/2597 - 4s - loss: 0.0315 - accuracy: 0.9898 - val_loss: 0.0374 - val_accuracy: 0.9885\n",
            "Epoch 177/500\n",
            "2597/2597 - 4s - loss: 0.0314 - accuracy: 0.9897 - val_loss: 0.0288 - val_accuracy: 0.9909\n",
            "Epoch 178/500\n",
            "2597/2597 - 4s - loss: 0.0324 - accuracy: 0.9896 - val_loss: 0.0352 - val_accuracy: 0.9881\n",
            "Epoch 179/500\n",
            "2597/2597 - 3s - loss: 0.0296 - accuracy: 0.9903 - val_loss: 0.0282 - val_accuracy: 0.9910\n",
            "Epoch 180/500\n",
            "2597/2597 - 3s - loss: 0.0309 - accuracy: 0.9899 - val_loss: 0.0233 - val_accuracy: 0.9930\n",
            "Epoch 181/500\n",
            "2597/2597 - 3s - loss: 0.0299 - accuracy: 0.9901 - val_loss: 0.0244 - val_accuracy: 0.9917\n",
            "Epoch 182/500\n",
            "2597/2597 - 3s - loss: 0.0313 - accuracy: 0.9898 - val_loss: 0.0304 - val_accuracy: 0.9907\n",
            "Epoch 183/500\n",
            "2597/2597 - 3s - loss: 0.0296 - accuracy: 0.9905 - val_loss: 0.0244 - val_accuracy: 0.9929\n",
            "Epoch 184/500\n",
            "2597/2597 - 3s - loss: 0.0284 - accuracy: 0.9907 - val_loss: 0.0245 - val_accuracy: 0.9923\n",
            "Epoch 185/500\n",
            "2597/2597 - 3s - loss: 0.0297 - accuracy: 0.9903 - val_loss: 0.0280 - val_accuracy: 0.9908\n",
            "Epoch 186/500\n",
            "2597/2597 - 4s - loss: 0.0291 - accuracy: 0.9905 - val_loss: 0.0302 - val_accuracy: 0.9904\n",
            "Epoch 187/500\n",
            "2597/2597 - 4s - loss: 0.0292 - accuracy: 0.9905 - val_loss: 0.0240 - val_accuracy: 0.9922\n",
            "Epoch 188/500\n",
            "2597/2597 - 3s - loss: 0.0272 - accuracy: 0.9912 - val_loss: 0.0317 - val_accuracy: 0.9895\n",
            "Epoch 189/500\n",
            "2597/2597 - 3s - loss: 0.0289 - accuracy: 0.9906 - val_loss: 0.0247 - val_accuracy: 0.9917\n",
            "Epoch 190/500\n",
            "2597/2597 - 3s - loss: 0.0287 - accuracy: 0.9907 - val_loss: 0.0396 - val_accuracy: 0.9861\n",
            "Epoch 191/500\n",
            "2597/2597 - 3s - loss: 0.0298 - accuracy: 0.9903 - val_loss: 0.0212 - val_accuracy: 0.9938\n",
            "Epoch 192/500\n",
            "2597/2597 - 3s - loss: 0.0288 - accuracy: 0.9908 - val_loss: 0.0547 - val_accuracy: 0.9818\n",
            "Epoch 193/500\n",
            "2597/2597 - 3s - loss: 0.0269 - accuracy: 0.9914 - val_loss: 0.0184 - val_accuracy: 0.9944\n",
            "Epoch 194/500\n",
            "2597/2597 - 3s - loss: 0.0286 - accuracy: 0.9906 - val_loss: 0.0381 - val_accuracy: 0.9888\n",
            "Epoch 195/500\n",
            "2597/2597 - 3s - loss: 0.0276 - accuracy: 0.9909 - val_loss: 0.0342 - val_accuracy: 0.9885\n",
            "Epoch 196/500\n",
            "2597/2597 - 3s - loss: 0.0266 - accuracy: 0.9915 - val_loss: 0.0250 - val_accuracy: 0.9917\n",
            "Epoch 197/500\n",
            "2597/2597 - 3s - loss: 0.0270 - accuracy: 0.9912 - val_loss: 0.0304 - val_accuracy: 0.9896\n",
            "Epoch 198/500\n",
            "2597/2597 - 3s - loss: 0.0265 - accuracy: 0.9913 - val_loss: 0.0198 - val_accuracy: 0.9942\n",
            "Epoch 199/500\n",
            "2597/2597 - 3s - loss: 0.0278 - accuracy: 0.9910 - val_loss: 0.0281 - val_accuracy: 0.9905\n",
            "Epoch 200/500\n",
            "2597/2597 - 3s - loss: 0.0287 - accuracy: 0.9908 - val_loss: 0.0262 - val_accuracy: 0.9916\n",
            "Epoch 201/500\n",
            "2597/2597 - 3s - loss: 0.0271 - accuracy: 0.9912 - val_loss: 0.0240 - val_accuracy: 0.9923\n",
            "Epoch 202/500\n",
            "2597/2597 - 3s - loss: 0.0260 - accuracy: 0.9917 - val_loss: 0.0282 - val_accuracy: 0.9906\n",
            "Epoch 203/500\n",
            "2597/2597 - 3s - loss: 0.0268 - accuracy: 0.9915 - val_loss: 0.0176 - val_accuracy: 0.9948\n",
            "Epoch 204/500\n",
            "2597/2597 - 3s - loss: 0.0270 - accuracy: 0.9914 - val_loss: 0.0251 - val_accuracy: 0.9920\n",
            "Epoch 205/500\n",
            "2597/2597 - 3s - loss: 0.0253 - accuracy: 0.9917 - val_loss: 0.0204 - val_accuracy: 0.9939\n",
            "Epoch 206/500\n",
            "2597/2597 - 3s - loss: 0.0267 - accuracy: 0.9914 - val_loss: 0.0402 - val_accuracy: 0.9865\n",
            "Epoch 207/500\n",
            "2597/2597 - 3s - loss: 0.0270 - accuracy: 0.9914 - val_loss: 0.0250 - val_accuracy: 0.9921\n",
            "Epoch 208/500\n",
            "2597/2597 - 3s - loss: 0.0257 - accuracy: 0.9917 - val_loss: 0.0487 - val_accuracy: 0.9843\n",
            "Epoch 209/500\n",
            "2597/2597 - 3s - loss: 0.0268 - accuracy: 0.9915 - val_loss: 0.0494 - val_accuracy: 0.9853\n",
            "Epoch 210/500\n",
            "2597/2597 - 3s - loss: 0.0249 - accuracy: 0.9918 - val_loss: 0.0196 - val_accuracy: 0.9938\n",
            "Epoch 211/500\n",
            "2597/2597 - 3s - loss: 0.0276 - accuracy: 0.9912 - val_loss: 0.0320 - val_accuracy: 0.9881\n",
            "Epoch 212/500\n",
            "2597/2597 - 3s - loss: 0.0248 - accuracy: 0.9919 - val_loss: 0.0292 - val_accuracy: 0.9914\n",
            "Epoch 213/500\n",
            "2597/2597 - 3s - loss: 0.0269 - accuracy: 0.9914 - val_loss: 0.0235 - val_accuracy: 0.9923\n",
            "Epoch 214/500\n",
            "2597/2597 - 3s - loss: 0.0254 - accuracy: 0.9918 - val_loss: 0.0241 - val_accuracy: 0.9917\n",
            "Epoch 215/500\n",
            "2597/2597 - 3s - loss: 0.0260 - accuracy: 0.9916 - val_loss: 0.0203 - val_accuracy: 0.9933\n",
            "Epoch 216/500\n",
            "2597/2597 - 3s - loss: 0.0238 - accuracy: 0.9922 - val_loss: 0.0298 - val_accuracy: 0.9905\n",
            "Epoch 217/500\n",
            "2597/2597 - 3s - loss: 0.0252 - accuracy: 0.9919 - val_loss: 0.0238 - val_accuracy: 0.9927\n",
            "Epoch 218/500\n",
            "2597/2597 - 3s - loss: 0.0245 - accuracy: 0.9924 - val_loss: 0.0211 - val_accuracy: 0.9937\n",
            "Epoch 219/500\n",
            "2597/2597 - 3s - loss: 0.0256 - accuracy: 0.9920 - val_loss: 0.0176 - val_accuracy: 0.9944\n",
            "Epoch 220/500\n",
            "2597/2597 - 4s - loss: 0.0244 - accuracy: 0.9923 - val_loss: 0.0252 - val_accuracy: 0.9913\n",
            "Epoch 221/500\n",
            "2597/2597 - 4s - loss: 0.0248 - accuracy: 0.9922 - val_loss: 0.0301 - val_accuracy: 0.9904\n",
            "Epoch 222/500\n",
            "2597/2597 - 3s - loss: 0.0248 - accuracy: 0.9921 - val_loss: 0.0203 - val_accuracy: 0.9938\n",
            "Epoch 223/500\n",
            "2597/2597 - 3s - loss: 0.0253 - accuracy: 0.9918 - val_loss: 0.0255 - val_accuracy: 0.9913\n",
            "Epoch 224/500\n",
            "2597/2597 - 3s - loss: 0.0252 - accuracy: 0.9920 - val_loss: 0.0271 - val_accuracy: 0.9918\n",
            "Epoch 225/500\n",
            "2597/2597 - 3s - loss: 0.0243 - accuracy: 0.9921 - val_loss: 0.0166 - val_accuracy: 0.9949\n",
            "Epoch 226/500\n",
            "2597/2597 - 3s - loss: 0.0225 - accuracy: 0.9929 - val_loss: 0.0193 - val_accuracy: 0.9934\n",
            "Epoch 227/500\n",
            "2597/2597 - 3s - loss: 0.0236 - accuracy: 0.9925 - val_loss: 0.0230 - val_accuracy: 0.9923\n",
            "Epoch 228/500\n",
            "2597/2597 - 3s - loss: 0.0243 - accuracy: 0.9922 - val_loss: 0.0358 - val_accuracy: 0.9885\n",
            "Epoch 229/500\n",
            "2597/2597 - 4s - loss: 0.0245 - accuracy: 0.9923 - val_loss: 0.0216 - val_accuracy: 0.9931\n",
            "Epoch 230/500\n",
            "2597/2597 - 4s - loss: 0.0240 - accuracy: 0.9925 - val_loss: 0.0202 - val_accuracy: 0.9942\n",
            "Epoch 231/500\n",
            "2597/2597 - 3s - loss: 0.0238 - accuracy: 0.9923 - val_loss: 0.0172 - val_accuracy: 0.9947\n",
            "Epoch 232/500\n",
            "2597/2597 - 4s - loss: 0.0250 - accuracy: 0.9920 - val_loss: 0.0342 - val_accuracy: 0.9885\n",
            "Epoch 233/500\n",
            "2597/2597 - 3s - loss: 0.0225 - accuracy: 0.9929 - val_loss: 0.0178 - val_accuracy: 0.9948\n",
            "Epoch 234/500\n",
            "2597/2597 - 3s - loss: 0.0237 - accuracy: 0.9924 - val_loss: 0.0181 - val_accuracy: 0.9944\n",
            "Epoch 235/500\n",
            "2597/2597 - 3s - loss: 0.0227 - accuracy: 0.9928 - val_loss: 0.0144 - val_accuracy: 0.9956\n",
            "Epoch 236/500\n",
            "2597/2597 - 4s - loss: 0.0236 - accuracy: 0.9926 - val_loss: 0.0236 - val_accuracy: 0.9920\n",
            "Epoch 237/500\n",
            "2597/2597 - 3s - loss: 0.0224 - accuracy: 0.9928 - val_loss: 0.0243 - val_accuracy: 0.9915\n",
            "Epoch 238/500\n",
            "2597/2597 - 3s - loss: 0.0242 - accuracy: 0.9924 - val_loss: 0.0203 - val_accuracy: 0.9933\n",
            "Epoch 239/500\n",
            "2597/2597 - 3s - loss: 0.0225 - accuracy: 0.9928 - val_loss: 0.0237 - val_accuracy: 0.9916\n",
            "Epoch 240/500\n",
            "2597/2597 - 3s - loss: 0.0232 - accuracy: 0.9927 - val_loss: 0.0229 - val_accuracy: 0.9919\n",
            "Epoch 241/500\n",
            "2597/2597 - 3s - loss: 0.0229 - accuracy: 0.9926 - val_loss: 0.0161 - val_accuracy: 0.9951\n",
            "Epoch 242/500\n",
            "2597/2597 - 3s - loss: 0.0229 - accuracy: 0.9927 - val_loss: 0.0263 - val_accuracy: 0.9922\n",
            "Epoch 243/500\n",
            "2597/2597 - 3s - loss: 0.0233 - accuracy: 0.9926 - val_loss: 0.0163 - val_accuracy: 0.9948\n",
            "Epoch 244/500\n",
            "2597/2597 - 3s - loss: 0.0230 - accuracy: 0.9927 - val_loss: 0.0300 - val_accuracy: 0.9909\n",
            "Epoch 245/500\n",
            "2597/2597 - 3s - loss: 0.0233 - accuracy: 0.9926 - val_loss: 0.0159 - val_accuracy: 0.9950\n",
            "Epoch 246/500\n",
            "2597/2597 - 4s - loss: 0.0233 - accuracy: 0.9926 - val_loss: 0.0157 - val_accuracy: 0.9953\n",
            "Epoch 247/500\n",
            "2597/2597 - 3s - loss: 0.0225 - accuracy: 0.9927 - val_loss: 0.0199 - val_accuracy: 0.9934\n",
            "Epoch 248/500\n",
            "2597/2597 - 3s - loss: 0.0225 - accuracy: 0.9928 - val_loss: 0.0223 - val_accuracy: 0.9926\n",
            "Epoch 249/500\n",
            "2597/2597 - 3s - loss: 0.0222 - accuracy: 0.9932 - val_loss: 0.0152 - val_accuracy: 0.9950\n",
            "Epoch 250/500\n",
            "2597/2597 - 3s - loss: 0.0229 - accuracy: 0.9929 - val_loss: 0.0486 - val_accuracy: 0.9830\n",
            "Epoch 251/500\n",
            "2597/2597 - 3s - loss: 0.0224 - accuracy: 0.9929 - val_loss: 0.0186 - val_accuracy: 0.9942\n",
            "Epoch 252/500\n",
            "2597/2597 - 3s - loss: 0.0219 - accuracy: 0.9931 - val_loss: 0.0207 - val_accuracy: 0.9931\n",
            "Epoch 253/500\n",
            "2597/2597 - 3s - loss: 0.0221 - accuracy: 0.9929 - val_loss: 0.0183 - val_accuracy: 0.9947\n",
            "Epoch 254/500\n",
            "2597/2597 - 3s - loss: 0.0209 - accuracy: 0.9933 - val_loss: 0.0234 - val_accuracy: 0.9928\n",
            "Epoch 255/500\n",
            "2597/2597 - 3s - loss: 0.0210 - accuracy: 0.9933 - val_loss: 0.0227 - val_accuracy: 0.9924\n",
            "Epoch 256/500\n",
            "2597/2597 - 3s - loss: 0.0225 - accuracy: 0.9929 - val_loss: 0.0136 - val_accuracy: 0.9965\n",
            "Epoch 257/500\n",
            "2597/2597 - 3s - loss: 0.0238 - accuracy: 0.9925 - val_loss: 0.0229 - val_accuracy: 0.9924\n",
            "Epoch 258/500\n",
            "2597/2597 - 3s - loss: 0.0215 - accuracy: 0.9934 - val_loss: 0.0146 - val_accuracy: 0.9953\n",
            "Epoch 259/500\n",
            "2597/2597 - 3s - loss: 0.0211 - accuracy: 0.9934 - val_loss: 0.0217 - val_accuracy: 0.9936\n",
            "Epoch 260/500\n",
            "2597/2597 - 3s - loss: 0.0221 - accuracy: 0.9930 - val_loss: 0.0201 - val_accuracy: 0.9934\n",
            "Epoch 261/500\n",
            "2597/2597 - 4s - loss: 0.0211 - accuracy: 0.9932 - val_loss: 0.0194 - val_accuracy: 0.9939\n",
            "Epoch 262/500\n",
            "2597/2597 - 3s - loss: 0.0207 - accuracy: 0.9935 - val_loss: 0.0119 - val_accuracy: 0.9967\n",
            "Epoch 263/500\n",
            "2597/2597 - 3s - loss: 0.0224 - accuracy: 0.9932 - val_loss: 0.0153 - val_accuracy: 0.9954\n",
            "Epoch 264/500\n",
            "2597/2597 - 4s - loss: 0.0208 - accuracy: 0.9937 - val_loss: 0.0157 - val_accuracy: 0.9954\n",
            "Epoch 265/500\n",
            "2597/2597 - 3s - loss: 0.0203 - accuracy: 0.9936 - val_loss: 0.0203 - val_accuracy: 0.9937\n",
            "Epoch 266/500\n",
            "2597/2597 - 3s - loss: 0.0207 - accuracy: 0.9934 - val_loss: 0.0266 - val_accuracy: 0.9919\n",
            "Epoch 267/500\n",
            "2597/2597 - 4s - loss: 0.0221 - accuracy: 0.9930 - val_loss: 0.0193 - val_accuracy: 0.9944\n",
            "Epoch 268/500\n",
            "2597/2597 - 3s - loss: 0.0201 - accuracy: 0.9937 - val_loss: 0.0135 - val_accuracy: 0.9964\n",
            "Epoch 269/500\n",
            "2597/2597 - 3s - loss: 0.0205 - accuracy: 0.9937 - val_loss: 0.0185 - val_accuracy: 0.9940\n",
            "Epoch 270/500\n",
            "2597/2597 - 4s - loss: 0.0212 - accuracy: 0.9932 - val_loss: 0.0117 - val_accuracy: 0.9966\n",
            "Epoch 271/500\n",
            "2597/2597 - 4s - loss: 0.0205 - accuracy: 0.9936 - val_loss: 0.0293 - val_accuracy: 0.9910\n",
            "Epoch 272/500\n",
            "2597/2597 - 4s - loss: 0.0220 - accuracy: 0.9933 - val_loss: 0.0356 - val_accuracy: 0.9893\n",
            "Epoch 273/500\n",
            "2597/2597 - 3s - loss: 0.0191 - accuracy: 0.9940 - val_loss: 0.0165 - val_accuracy: 0.9947\n",
            "Epoch 274/500\n",
            "2597/2597 - 3s - loss: 0.0216 - accuracy: 0.9934 - val_loss: 0.0168 - val_accuracy: 0.9948\n",
            "Epoch 275/500\n",
            "2597/2597 - 3s - loss: 0.0206 - accuracy: 0.9934 - val_loss: 0.0132 - val_accuracy: 0.9961\n",
            "Epoch 276/500\n",
            "2597/2597 - 3s - loss: 0.0210 - accuracy: 0.9935 - val_loss: 0.0201 - val_accuracy: 0.9928\n",
            "Epoch 277/500\n",
            "2597/2597 - 3s - loss: 0.0196 - accuracy: 0.9938 - val_loss: 0.0154 - val_accuracy: 0.9953\n",
            "Epoch 278/500\n",
            "2597/2597 - 3s - loss: 0.0205 - accuracy: 0.9935 - val_loss: 0.0185 - val_accuracy: 0.9943\n",
            "Epoch 279/500\n",
            "2597/2597 - 3s - loss: 0.0209 - accuracy: 0.9935 - val_loss: 0.0149 - val_accuracy: 0.9950\n",
            "Epoch 280/500\n",
            "2597/2597 - 3s - loss: 0.0188 - accuracy: 0.9942 - val_loss: 0.0222 - val_accuracy: 0.9925\n",
            "Epoch 281/500\n",
            "2597/2597 - 3s - loss: 0.0211 - accuracy: 0.9935 - val_loss: 0.0232 - val_accuracy: 0.9928\n",
            "Epoch 282/500\n",
            "2597/2597 - 3s - loss: 0.0189 - accuracy: 0.9942 - val_loss: 0.0140 - val_accuracy: 0.9960\n",
            "Epoch 283/500\n",
            "2597/2597 - 3s - loss: 0.0198 - accuracy: 0.9939 - val_loss: 0.0214 - val_accuracy: 0.9936\n",
            "Epoch 284/500\n",
            "2597/2597 - 3s - loss: 0.0201 - accuracy: 0.9938 - val_loss: 0.0204 - val_accuracy: 0.9934\n",
            "Epoch 285/500\n",
            "2597/2597 - 3s - loss: 0.0188 - accuracy: 0.9942 - val_loss: 0.0165 - val_accuracy: 0.9948\n",
            "Epoch 286/500\n",
            "2597/2597 - 3s - loss: 0.0193 - accuracy: 0.9939 - val_loss: 0.0155 - val_accuracy: 0.9952\n",
            "Epoch 287/500\n",
            "2597/2597 - 3s - loss: 0.0195 - accuracy: 0.9939 - val_loss: 0.0460 - val_accuracy: 0.9874\n",
            "Epoch 288/500\n",
            "2597/2597 - 3s - loss: 0.0201 - accuracy: 0.9937 - val_loss: 0.0134 - val_accuracy: 0.9966\n",
            "Epoch 289/500\n",
            "2597/2597 - 3s - loss: 0.0197 - accuracy: 0.9938 - val_loss: 0.0100 - val_accuracy: 0.9972\n",
            "Epoch 290/500\n",
            "2597/2597 - 3s - loss: 0.0199 - accuracy: 0.9938 - val_loss: 0.0260 - val_accuracy: 0.9916\n",
            "Epoch 291/500\n",
            "2597/2597 - 3s - loss: 0.0192 - accuracy: 0.9941 - val_loss: 0.0322 - val_accuracy: 0.9904\n",
            "Epoch 292/500\n",
            "2597/2597 - 4s - loss: 0.0200 - accuracy: 0.9938 - val_loss: 0.0135 - val_accuracy: 0.9962\n",
            "Epoch 293/500\n",
            "2597/2597 - 3s - loss: 0.0192 - accuracy: 0.9942 - val_loss: 0.0274 - val_accuracy: 0.9916\n",
            "Epoch 294/500\n",
            "2597/2597 - 3s - loss: 0.0181 - accuracy: 0.9944 - val_loss: 0.0126 - val_accuracy: 0.9956\n",
            "Epoch 295/500\n",
            "2597/2597 - 3s - loss: 0.0203 - accuracy: 0.9937 - val_loss: 0.0256 - val_accuracy: 0.9918\n",
            "Epoch 296/500\n",
            "2597/2597 - 3s - loss: 0.0184 - accuracy: 0.9943 - val_loss: 0.0186 - val_accuracy: 0.9945\n",
            "Epoch 297/500\n",
            "2597/2597 - 3s - loss: 0.0196 - accuracy: 0.9938 - val_loss: 0.0143 - val_accuracy: 0.9953\n",
            "Epoch 298/500\n",
            "2597/2597 - 3s - loss: 0.0189 - accuracy: 0.9942 - val_loss: 0.0219 - val_accuracy: 0.9929\n",
            "Epoch 299/500\n",
            "2597/2597 - 3s - loss: 0.0186 - accuracy: 0.9942 - val_loss: 0.0134 - val_accuracy: 0.9960\n",
            "Epoch 300/500\n",
            "2597/2597 - 3s - loss: 0.0197 - accuracy: 0.9940 - val_loss: 0.0157 - val_accuracy: 0.9956\n",
            "Epoch 301/500\n",
            "2597/2597 - 3s - loss: 0.0192 - accuracy: 0.9940 - val_loss: 0.0266 - val_accuracy: 0.9918\n",
            "Epoch 302/500\n",
            "2597/2597 - 3s - loss: 0.0187 - accuracy: 0.9941 - val_loss: 0.0196 - val_accuracy: 0.9931\n",
            "Epoch 303/500\n",
            "2597/2597 - 3s - loss: 0.0183 - accuracy: 0.9943 - val_loss: 0.0209 - val_accuracy: 0.9934\n",
            "Epoch 304/500\n",
            "2597/2597 - 3s - loss: 0.0176 - accuracy: 0.9947 - val_loss: 0.0231 - val_accuracy: 0.9921\n",
            "Epoch 305/500\n",
            "2597/2597 - 3s - loss: 0.0198 - accuracy: 0.9939 - val_loss: 0.0177 - val_accuracy: 0.9949\n",
            "Epoch 306/500\n",
            "2597/2597 - 3s - loss: 0.0173 - accuracy: 0.9947 - val_loss: 0.0109 - val_accuracy: 0.9970\n",
            "Epoch 307/500\n",
            "2597/2597 - 3s - loss: 0.0177 - accuracy: 0.9945 - val_loss: 0.0100 - val_accuracy: 0.9972\n",
            "Epoch 308/500\n",
            "2597/2597 - 3s - loss: 0.0185 - accuracy: 0.9944 - val_loss: 0.0184 - val_accuracy: 0.9944\n",
            "Epoch 309/500\n",
            "2597/2597 - 3s - loss: 0.0180 - accuracy: 0.9944 - val_loss: 0.0109 - val_accuracy: 0.9971\n",
            "Epoch 310/500\n",
            "2597/2597 - 3s - loss: 0.0182 - accuracy: 0.9943 - val_loss: 0.0147 - val_accuracy: 0.9960\n",
            "Epoch 311/500\n",
            "2597/2597 - 3s - loss: 0.0180 - accuracy: 0.9946 - val_loss: 0.0196 - val_accuracy: 0.9933\n",
            "Epoch 312/500\n",
            "2597/2597 - 3s - loss: 0.0183 - accuracy: 0.9943 - val_loss: 0.0180 - val_accuracy: 0.9939\n",
            "Epoch 313/500\n",
            "2597/2597 - 3s - loss: 0.0176 - accuracy: 0.9946 - val_loss: 0.0157 - val_accuracy: 0.9949\n",
            "Epoch 314/500\n",
            "2597/2597 - 3s - loss: 0.0183 - accuracy: 0.9944 - val_loss: 0.0223 - val_accuracy: 0.9937\n",
            "Epoch 315/500\n",
            "2597/2597 - 3s - loss: 0.0175 - accuracy: 0.9944 - val_loss: 0.0202 - val_accuracy: 0.9934\n",
            "Epoch 316/500\n",
            "2597/2597 - 3s - loss: 0.0177 - accuracy: 0.9946 - val_loss: 0.0165 - val_accuracy: 0.9948\n",
            "Epoch 317/500\n",
            "2597/2597 - 3s - loss: 0.0187 - accuracy: 0.9942 - val_loss: 0.0196 - val_accuracy: 0.9931\n",
            "Epoch 318/500\n",
            "2597/2597 - 3s - loss: 0.0170 - accuracy: 0.9948 - val_loss: 0.0269 - val_accuracy: 0.9914\n",
            "Epoch 319/500\n",
            "2597/2597 - 3s - loss: 0.0190 - accuracy: 0.9942 - val_loss: 0.0300 - val_accuracy: 0.9905\n",
            "Epoch 320/500\n",
            "2597/2597 - 3s - loss: 0.0172 - accuracy: 0.9948 - val_loss: 0.0098 - val_accuracy: 0.9972\n",
            "Epoch 321/500\n",
            "2597/2597 - 3s - loss: 0.0175 - accuracy: 0.9946 - val_loss: 0.0146 - val_accuracy: 0.9957\n",
            "Epoch 322/500\n",
            "2597/2597 - 3s - loss: 0.0180 - accuracy: 0.9944 - val_loss: 0.0486 - val_accuracy: 0.9842\n",
            "Epoch 323/500\n",
            "2597/2597 - 3s - loss: 0.0164 - accuracy: 0.9949 - val_loss: 0.0107 - val_accuracy: 0.9972\n",
            "Epoch 324/500\n",
            "2597/2597 - 3s - loss: 0.0179 - accuracy: 0.9947 - val_loss: 0.0138 - val_accuracy: 0.9960\n",
            "Epoch 325/500\n",
            "2597/2597 - 3s - loss: 0.0162 - accuracy: 0.9950 - val_loss: 0.0121 - val_accuracy: 0.9963\n",
            "Epoch 326/500\n",
            "2597/2597 - 3s - loss: 0.0176 - accuracy: 0.9945 - val_loss: 0.0138 - val_accuracy: 0.9959\n",
            "Epoch 327/500\n",
            "2597/2597 - 3s - loss: 0.0178 - accuracy: 0.9947 - val_loss: 0.0401 - val_accuracy: 0.9885\n",
            "Epoch 328/500\n",
            "2597/2597 - 3s - loss: 0.0170 - accuracy: 0.9948 - val_loss: 0.0479 - val_accuracy: 0.9898\n",
            "Epoch 329/500\n",
            "2597/2597 - 3s - loss: 0.0169 - accuracy: 0.9948 - val_loss: 0.0136 - val_accuracy: 0.9957\n",
            "Epoch 330/500\n",
            "2597/2597 - 3s - loss: 0.0168 - accuracy: 0.9947 - val_loss: 0.0079 - val_accuracy: 0.9979\n",
            "Epoch 331/500\n",
            "2597/2597 - 3s - loss: 0.0168 - accuracy: 0.9949 - val_loss: 0.0254 - val_accuracy: 0.9918\n",
            "Epoch 332/500\n",
            "2597/2597 - 3s - loss: 0.0176 - accuracy: 0.9947 - val_loss: 0.0093 - val_accuracy: 0.9974\n",
            "Epoch 333/500\n",
            "2597/2597 - 3s - loss: 0.0164 - accuracy: 0.9948 - val_loss: 0.0095 - val_accuracy: 0.9972\n",
            "Epoch 334/500\n",
            "2597/2597 - 3s - loss: 0.0159 - accuracy: 0.9951 - val_loss: 0.0211 - val_accuracy: 0.9931\n",
            "Epoch 335/500\n",
            "2597/2597 - 3s - loss: 0.0169 - accuracy: 0.9946 - val_loss: 0.0288 - val_accuracy: 0.9914\n",
            "Epoch 336/500\n",
            "2597/2597 - 3s - loss: 0.0167 - accuracy: 0.9949 - val_loss: 0.0085 - val_accuracy: 0.9977\n",
            "Epoch 337/500\n",
            "2597/2597 - 3s - loss: 0.0166 - accuracy: 0.9949 - val_loss: 0.0111 - val_accuracy: 0.9968\n",
            "Epoch 338/500\n",
            "2597/2597 - 3s - loss: 0.0157 - accuracy: 0.9949 - val_loss: 0.0156 - val_accuracy: 0.9953\n",
            "Epoch 339/500\n",
            "2597/2597 - 3s - loss: 0.0163 - accuracy: 0.9948 - val_loss: 0.0122 - val_accuracy: 0.9966\n",
            "Epoch 340/500\n",
            "2597/2597 - 3s - loss: 0.0167 - accuracy: 0.9948 - val_loss: 0.0410 - val_accuracy: 0.9856\n",
            "Epoch 341/500\n",
            "2597/2597 - 3s - loss: 0.0168 - accuracy: 0.9947 - val_loss: 0.0118 - val_accuracy: 0.9962\n",
            "Epoch 342/500\n",
            "2597/2597 - 3s - loss: 0.0163 - accuracy: 0.9950 - val_loss: 0.0175 - val_accuracy: 0.9944\n",
            "Epoch 343/500\n",
            "2597/2597 - 3s - loss: 0.0159 - accuracy: 0.9953 - val_loss: 0.0129 - val_accuracy: 0.9960\n",
            "Epoch 344/500\n",
            "2597/2597 - 3s - loss: 0.0168 - accuracy: 0.9949 - val_loss: 0.0118 - val_accuracy: 0.9960\n",
            "Epoch 345/500\n",
            "2597/2597 - 3s - loss: 0.0165 - accuracy: 0.9948 - val_loss: 0.0111 - val_accuracy: 0.9969\n",
            "Epoch 346/500\n",
            "2597/2597 - 3s - loss: 0.0155 - accuracy: 0.9952 - val_loss: 0.0281 - val_accuracy: 0.9911\n",
            "Epoch 347/500\n",
            "2597/2597 - 3s - loss: 0.0171 - accuracy: 0.9949 - val_loss: 0.0108 - val_accuracy: 0.9967\n",
            "Epoch 348/500\n",
            "2597/2597 - 3s - loss: 0.0162 - accuracy: 0.9951 - val_loss: 0.0239 - val_accuracy: 0.9936\n",
            "Epoch 349/500\n",
            "2597/2597 - 3s - loss: 0.0160 - accuracy: 0.9951 - val_loss: 0.0108 - val_accuracy: 0.9974\n",
            "Epoch 350/500\n",
            "2597/2597 - 3s - loss: 0.0160 - accuracy: 0.9950 - val_loss: 0.0127 - val_accuracy: 0.9962\n",
            "Epoch 351/500\n",
            "2597/2597 - 3s - loss: 0.0174 - accuracy: 0.9948 - val_loss: 0.0157 - val_accuracy: 0.9950\n",
            "Epoch 352/500\n",
            "2597/2597 - 3s - loss: 0.0169 - accuracy: 0.9948 - val_loss: 0.0212 - val_accuracy: 0.9928\n",
            "Epoch 353/500\n",
            "2597/2597 - 3s - loss: 0.0146 - accuracy: 0.9956 - val_loss: 0.0084 - val_accuracy: 0.9978\n",
            "Epoch 354/500\n",
            "2597/2597 - 3s - loss: 0.0162 - accuracy: 0.9950 - val_loss: 0.0172 - val_accuracy: 0.9944\n",
            "Epoch 355/500\n",
            "2597/2597 - 3s - loss: 0.0154 - accuracy: 0.9953 - val_loss: 0.0173 - val_accuracy: 0.9946\n",
            "Epoch 356/500\n",
            "2597/2597 - 3s - loss: 0.0159 - accuracy: 0.9951 - val_loss: 0.0085 - val_accuracy: 0.9976\n",
            "Epoch 357/500\n",
            "2597/2597 - 3s - loss: 0.0154 - accuracy: 0.9951 - val_loss: 0.0228 - val_accuracy: 0.9934\n",
            "Epoch 358/500\n",
            "2597/2597 - 3s - loss: 0.0154 - accuracy: 0.9953 - val_loss: 0.0132 - val_accuracy: 0.9959\n",
            "Epoch 359/500\n",
            "2597/2597 - 3s - loss: 0.0152 - accuracy: 0.9953 - val_loss: 0.0133 - val_accuracy: 0.9960\n",
            "Epoch 360/500\n",
            "2597/2597 - 4s - loss: 0.0155 - accuracy: 0.9953 - val_loss: 0.0137 - val_accuracy: 0.9959\n",
            "Epoch 361/500\n",
            "2597/2597 - 4s - loss: 0.0163 - accuracy: 0.9950 - val_loss: 0.0114 - val_accuracy: 0.9964\n",
            "Epoch 362/500\n",
            "2597/2597 - 4s - loss: 0.0155 - accuracy: 0.9952 - val_loss: 0.0093 - val_accuracy: 0.9972\n",
            "Epoch 363/500\n",
            "2597/2597 - 3s - loss: 0.0158 - accuracy: 0.9951 - val_loss: 0.0141 - val_accuracy: 0.9954\n",
            "Epoch 364/500\n",
            "2597/2597 - 3s - loss: 0.0145 - accuracy: 0.9954 - val_loss: 0.0120 - val_accuracy: 0.9959\n",
            "Epoch 365/500\n",
            "2597/2597 - 3s - loss: 0.0151 - accuracy: 0.9955 - val_loss: 0.0139 - val_accuracy: 0.9960\n",
            "Epoch 366/500\n",
            "2597/2597 - 3s - loss: 0.0157 - accuracy: 0.9954 - val_loss: 0.0365 - val_accuracy: 0.9879\n",
            "Epoch 367/500\n",
            "2597/2597 - 3s - loss: 0.0161 - accuracy: 0.9951 - val_loss: 0.0249 - val_accuracy: 0.9929\n",
            "Epoch 368/500\n",
            "2597/2597 - 3s - loss: 0.0152 - accuracy: 0.9954 - val_loss: 0.0431 - val_accuracy: 0.9850\n",
            "Epoch 369/500\n",
            "2597/2597 - 3s - loss: 0.0164 - accuracy: 0.9950 - val_loss: 0.0133 - val_accuracy: 0.9961\n",
            "Epoch 370/500\n",
            "2597/2597 - 3s - loss: 0.0170 - accuracy: 0.9949 - val_loss: 0.0135 - val_accuracy: 0.9957\n",
            "Epoch 371/500\n",
            "2597/2597 - 3s - loss: 0.0153 - accuracy: 0.9954 - val_loss: 0.0371 - val_accuracy: 0.9900\n",
            "Epoch 372/500\n",
            "2597/2597 - 3s - loss: 0.0151 - accuracy: 0.9953 - val_loss: 0.0292 - val_accuracy: 0.9906\n",
            "Epoch 373/500\n",
            "2597/2597 - 3s - loss: 0.0148 - accuracy: 0.9955 - val_loss: 0.0133 - val_accuracy: 0.9962\n",
            "Epoch 374/500\n",
            "2597/2597 - 3s - loss: 0.0155 - accuracy: 0.9952 - val_loss: 0.0270 - val_accuracy: 0.9915\n",
            "Epoch 375/500\n",
            "2597/2597 - 3s - loss: 0.0150 - accuracy: 0.9954 - val_loss: 0.0253 - val_accuracy: 0.9916\n",
            "Epoch 376/500\n",
            "2597/2597 - 3s - loss: 0.0162 - accuracy: 0.9951 - val_loss: 0.0136 - val_accuracy: 0.9963\n",
            "Epoch 377/500\n",
            "2597/2597 - 3s - loss: 0.0142 - accuracy: 0.9957 - val_loss: 0.0115 - val_accuracy: 0.9963\n",
            "Epoch 378/500\n",
            "2597/2597 - 3s - loss: 0.0150 - accuracy: 0.9954 - val_loss: 0.0162 - val_accuracy: 0.9948\n",
            "Epoch 379/500\n",
            "2597/2597 - 3s - loss: 0.0160 - accuracy: 0.9951 - val_loss: 0.0147 - val_accuracy: 0.9954\n",
            "Epoch 380/500\n",
            "2597/2597 - 3s - loss: 0.0171 - accuracy: 0.9950 - val_loss: 0.0130 - val_accuracy: 0.9962\n",
            "Epoch 381/500\n",
            "2597/2597 - 3s - loss: 0.0141 - accuracy: 0.9956 - val_loss: 0.0168 - val_accuracy: 0.9945\n",
            "Epoch 382/500\n",
            "2597/2597 - 3s - loss: 0.0157 - accuracy: 0.9952 - val_loss: 0.0329 - val_accuracy: 0.9902\n",
            "Epoch 383/500\n",
            "2597/2597 - 3s - loss: 0.0148 - accuracy: 0.9954 - val_loss: 0.0095 - val_accuracy: 0.9972\n",
            "Epoch 384/500\n",
            "2597/2597 - 3s - loss: 0.0137 - accuracy: 0.9958 - val_loss: 0.0547 - val_accuracy: 0.9881\n",
            "Epoch 385/500\n",
            "2597/2597 - 3s - loss: 0.0162 - accuracy: 0.9951 - val_loss: 0.0122 - val_accuracy: 0.9965\n",
            "Epoch 386/500\n",
            "2597/2597 - 3s - loss: 0.0151 - accuracy: 0.9955 - val_loss: 0.0238 - val_accuracy: 0.9935\n",
            "Epoch 387/500\n",
            "2597/2597 - 3s - loss: 0.0142 - accuracy: 0.9957 - val_loss: 0.0175 - val_accuracy: 0.9943\n",
            "Epoch 388/500\n",
            "2597/2597 - 4s - loss: 0.0144 - accuracy: 0.9956 - val_loss: 0.0105 - val_accuracy: 0.9969\n",
            "Epoch 389/500\n",
            "2597/2597 - 3s - loss: 0.0165 - accuracy: 0.9951 - val_loss: 0.0131 - val_accuracy: 0.9960\n",
            "Epoch 390/500\n",
            "2597/2597 - 3s - loss: 0.0166 - accuracy: 0.9949 - val_loss: 0.0227 - val_accuracy: 0.9931\n",
            "Epoch 391/500\n",
            "2597/2597 - 4s - loss: 0.0140 - accuracy: 0.9956 - val_loss: 0.0134 - val_accuracy: 0.9957\n",
            "Epoch 392/500\n",
            "2597/2597 - 3s - loss: 0.0145 - accuracy: 0.9955 - val_loss: 0.0108 - val_accuracy: 0.9966\n",
            "Epoch 393/500\n",
            "2597/2597 - 3s - loss: 0.0153 - accuracy: 0.9951 - val_loss: 0.0144 - val_accuracy: 0.9958\n",
            "Epoch 394/500\n",
            "2597/2597 - 3s - loss: 0.0145 - accuracy: 0.9957 - val_loss: 0.0164 - val_accuracy: 0.9949\n",
            "Epoch 395/500\n",
            "2597/2597 - 4s - loss: 0.0159 - accuracy: 0.9951 - val_loss: 0.0442 - val_accuracy: 0.9878\n",
            "Epoch 396/500\n",
            "2597/2597 - 4s - loss: 0.0146 - accuracy: 0.9955 - val_loss: 0.0233 - val_accuracy: 0.9939\n",
            "Epoch 397/500\n",
            "2597/2597 - 4s - loss: 0.0148 - accuracy: 0.9954 - val_loss: 0.0083 - val_accuracy: 0.9978\n",
            "Epoch 398/500\n",
            "2597/2597 - 3s - loss: 0.0147 - accuracy: 0.9955 - val_loss: 0.0278 - val_accuracy: 0.9913\n",
            "Epoch 399/500\n",
            "2597/2597 - 3s - loss: 0.0144 - accuracy: 0.9956 - val_loss: 0.0285 - val_accuracy: 0.9913\n",
            "Epoch 400/500\n",
            "2597/2597 - 3s - loss: 0.0157 - accuracy: 0.9953 - val_loss: 0.0134 - val_accuracy: 0.9960\n",
            "Epoch 401/500\n",
            "2597/2597 - 3s - loss: 0.0152 - accuracy: 0.9953 - val_loss: 0.0188 - val_accuracy: 0.9942\n",
            "Epoch 402/500\n",
            "2597/2597 - 3s - loss: 0.0150 - accuracy: 0.9953 - val_loss: 0.0133 - val_accuracy: 0.9957\n",
            "Epoch 403/500\n",
            "2597/2597 - 3s - loss: 0.0136 - accuracy: 0.9958 - val_loss: 0.0093 - val_accuracy: 0.9973\n",
            "Epoch 404/500\n",
            "2597/2597 - 3s - loss: 0.0155 - accuracy: 0.9953 - val_loss: 0.0278 - val_accuracy: 0.9913\n",
            "Epoch 405/500\n",
            "2597/2597 - 3s - loss: 0.0149 - accuracy: 0.9956 - val_loss: 0.0074 - val_accuracy: 0.9983\n",
            "Epoch 406/500\n",
            "2597/2597 - 3s - loss: 0.0142 - accuracy: 0.9956 - val_loss: 0.0269 - val_accuracy: 0.9910\n",
            "Epoch 407/500\n",
            "2597/2597 - 3s - loss: 0.0148 - accuracy: 0.9957 - val_loss: 0.0111 - val_accuracy: 0.9965\n",
            "Epoch 408/500\n",
            "2597/2597 - 3s - loss: 0.0138 - accuracy: 0.9957 - val_loss: 0.0173 - val_accuracy: 0.9943\n",
            "Epoch 409/500\n",
            "2597/2597 - 3s - loss: 0.0144 - accuracy: 0.9956 - val_loss: 0.0277 - val_accuracy: 0.9908\n",
            "Epoch 410/500\n",
            "2597/2597 - 3s - loss: 0.0150 - accuracy: 0.9955 - val_loss: 0.0084 - val_accuracy: 0.9977\n",
            "Epoch 411/500\n",
            "2597/2597 - 3s - loss: 0.0139 - accuracy: 0.9958 - val_loss: 0.0171 - val_accuracy: 0.9944\n",
            "Epoch 412/500\n",
            "2597/2597 - 3s - loss: 0.0147 - accuracy: 0.9955 - val_loss: 0.0087 - val_accuracy: 0.9973\n",
            "Epoch 413/500\n",
            "2597/2597 - 3s - loss: 0.0152 - accuracy: 0.9956 - val_loss: 0.0072 - val_accuracy: 0.9980\n",
            "Epoch 414/500\n",
            "2597/2597 - 3s - loss: 0.0144 - accuracy: 0.9958 - val_loss: 0.0229 - val_accuracy: 0.9920\n",
            "Epoch 415/500\n",
            "2597/2597 - 3s - loss: 0.0142 - accuracy: 0.9956 - val_loss: 0.0142 - val_accuracy: 0.9957\n",
            "Epoch 416/500\n",
            "2597/2597 - 3s - loss: 0.0149 - accuracy: 0.9956 - val_loss: 0.0099 - val_accuracy: 0.9972\n",
            "Epoch 417/500\n",
            "2597/2597 - 3s - loss: 0.0145 - accuracy: 0.9954 - val_loss: 0.0118 - val_accuracy: 0.9962\n",
            "Epoch 418/500\n",
            "2597/2597 - 3s - loss: 0.0136 - accuracy: 0.9960 - val_loss: 0.0238 - val_accuracy: 0.9919\n",
            "Epoch 419/500\n",
            "2597/2597 - 3s - loss: 0.0146 - accuracy: 0.9958 - val_loss: 0.0063 - val_accuracy: 0.9986\n",
            "Epoch 420/500\n",
            "2597/2597 - 3s - loss: 0.0144 - accuracy: 0.9955 - val_loss: 0.0106 - val_accuracy: 0.9968\n",
            "Epoch 421/500\n",
            "2597/2597 - 3s - loss: 0.0143 - accuracy: 0.9957 - val_loss: 0.0235 - val_accuracy: 0.9933\n",
            "Epoch 422/500\n",
            "2597/2597 - 3s - loss: 0.0135 - accuracy: 0.9957 - val_loss: 0.0166 - val_accuracy: 0.9947\n",
            "Epoch 423/500\n",
            "2597/2597 - 3s - loss: 0.0141 - accuracy: 0.9959 - val_loss: 0.0379 - val_accuracy: 0.9885\n",
            "Epoch 424/500\n",
            "2597/2597 - 3s - loss: 0.0149 - accuracy: 0.9954 - val_loss: 0.0167 - val_accuracy: 0.9946\n",
            "Epoch 425/500\n",
            "2597/2597 - 3s - loss: 0.0141 - accuracy: 0.9958 - val_loss: 0.0114 - val_accuracy: 0.9967\n",
            "Epoch 426/500\n",
            "2597/2597 - 3s - loss: 0.0135 - accuracy: 0.9961 - val_loss: 0.0225 - val_accuracy: 0.9944\n",
            "Epoch 427/500\n",
            "2597/2597 - 3s - loss: 0.0151 - accuracy: 0.9954 - val_loss: 0.0080 - val_accuracy: 0.9975\n",
            "Epoch 428/500\n",
            "2597/2597 - 3s - loss: 0.0141 - accuracy: 0.9958 - val_loss: 0.0161 - val_accuracy: 0.9947\n",
            "Epoch 429/500\n",
            "2597/2597 - 3s - loss: 0.0133 - accuracy: 0.9959 - val_loss: 0.0095 - val_accuracy: 0.9973\n",
            "Epoch 430/500\n",
            "2597/2597 - 3s - loss: 0.0146 - accuracy: 0.9957 - val_loss: 0.0085 - val_accuracy: 0.9974\n",
            "Epoch 431/500\n",
            "2597/2597 - 3s - loss: 0.0153 - accuracy: 0.9955 - val_loss: 0.0097 - val_accuracy: 0.9972\n",
            "Epoch 432/500\n",
            "2597/2597 - 3s - loss: 0.0127 - accuracy: 0.9963 - val_loss: 0.0138 - val_accuracy: 0.9959\n",
            "Epoch 433/500\n",
            "2597/2597 - 3s - loss: 0.0161 - accuracy: 0.9952 - val_loss: 0.0119 - val_accuracy: 0.9960\n",
            "Epoch 434/500\n",
            "2597/2597 - 3s - loss: 0.0128 - accuracy: 0.9962 - val_loss: 0.0113 - val_accuracy: 0.9967\n",
            "Epoch 435/500\n",
            "2597/2597 - 3s - loss: 0.0139 - accuracy: 0.9959 - val_loss: 0.0149 - val_accuracy: 0.9960\n",
            "Epoch 436/500\n",
            "2597/2597 - 3s - loss: 0.0142 - accuracy: 0.9956 - val_loss: 0.0167 - val_accuracy: 0.9952\n",
            "Epoch 437/500\n",
            "2597/2597 - 3s - loss: 0.0138 - accuracy: 0.9961 - val_loss: 0.0226 - val_accuracy: 0.9934\n",
            "Epoch 438/500\n",
            "2597/2597 - 3s - loss: 0.0125 - accuracy: 0.9963 - val_loss: 0.0149 - val_accuracy: 0.9957\n",
            "Epoch 439/500\n",
            "2597/2597 - 3s - loss: 0.0151 - accuracy: 0.9955 - val_loss: 0.0096 - val_accuracy: 0.9972\n",
            "Epoch 440/500\n",
            "2597/2597 - 3s - loss: 0.0133 - accuracy: 0.9961 - val_loss: 0.0108 - val_accuracy: 0.9968\n",
            "Epoch 441/500\n",
            "2597/2597 - 3s - loss: 0.0141 - accuracy: 0.9957 - val_loss: 0.0202 - val_accuracy: 0.9937\n",
            "Epoch 442/500\n",
            "2597/2597 - 3s - loss: 0.0134 - accuracy: 0.9960 - val_loss: 0.0358 - val_accuracy: 0.9905\n",
            "Epoch 443/500\n",
            "2597/2597 - 3s - loss: 0.0143 - accuracy: 0.9956 - val_loss: 0.0077 - val_accuracy: 0.9977\n",
            "Epoch 444/500\n",
            "2597/2597 - 3s - loss: 0.0134 - accuracy: 0.9961 - val_loss: 0.0127 - val_accuracy: 0.9962\n",
            "Epoch 445/500\n",
            "2597/2597 - 3s - loss: 0.0141 - accuracy: 0.9956 - val_loss: 0.0162 - val_accuracy: 0.9950\n",
            "Epoch 446/500\n",
            "2597/2597 - 3s - loss: 0.0129 - accuracy: 0.9963 - val_loss: 0.0079 - val_accuracy: 0.9981\n",
            "Epoch 447/500\n",
            "2597/2597 - 3s - loss: 0.0143 - accuracy: 0.9957 - val_loss: 0.0075 - val_accuracy: 0.9983\n",
            "Epoch 448/500\n",
            "2597/2597 - 3s - loss: 0.0124 - accuracy: 0.9963 - val_loss: 0.0111 - val_accuracy: 0.9963\n",
            "Epoch 449/500\n",
            "2597/2597 - 3s - loss: 0.0143 - accuracy: 0.9957 - val_loss: 0.0092 - val_accuracy: 0.9970\n",
            "Epoch 450/500\n",
            "2597/2597 - 3s - loss: 0.0140 - accuracy: 0.9957 - val_loss: 0.0327 - val_accuracy: 0.9917\n",
            "Epoch 451/500\n",
            "2597/2597 - 4s - loss: 0.0130 - accuracy: 0.9961 - val_loss: 0.0070 - val_accuracy: 0.9981\n",
            "Epoch 452/500\n",
            "2597/2597 - 4s - loss: 0.0131 - accuracy: 0.9961 - val_loss: 0.0164 - val_accuracy: 0.9946\n",
            "Epoch 453/500\n",
            "2597/2597 - 4s - loss: 0.0139 - accuracy: 0.9959 - val_loss: 0.0129 - val_accuracy: 0.9963\n",
            "Epoch 454/500\n",
            "2597/2597 - 3s - loss: 0.0140 - accuracy: 0.9959 - val_loss: 0.0109 - val_accuracy: 0.9966\n",
            "Epoch 455/500\n",
            "2597/2597 - 3s - loss: 0.0129 - accuracy: 0.9960 - val_loss: 0.0090 - val_accuracy: 0.9974\n",
            "Epoch 456/500\n",
            "2597/2597 - 3s - loss: 0.0134 - accuracy: 0.9961 - val_loss: 0.0196 - val_accuracy: 0.9941\n",
            "Epoch 457/500\n",
            "2597/2597 - 3s - loss: 0.0133 - accuracy: 0.9961 - val_loss: 0.0069 - val_accuracy: 0.9981\n",
            "Epoch 458/500\n",
            "2597/2597 - 3s - loss: 0.0136 - accuracy: 0.9960 - val_loss: 0.0135 - val_accuracy: 0.9962\n",
            "Epoch 459/500\n",
            "2597/2597 - 3s - loss: 0.0138 - accuracy: 0.9960 - val_loss: 0.0305 - val_accuracy: 0.9909\n",
            "Epoch 460/500\n",
            "2597/2597 - 3s - loss: 0.0128 - accuracy: 0.9962 - val_loss: 0.0253 - val_accuracy: 0.9922\n",
            "Epoch 461/500\n",
            "2597/2597 - 3s - loss: 0.0127 - accuracy: 0.9961 - val_loss: 0.0118 - val_accuracy: 0.9965\n",
            "Epoch 462/500\n",
            "2597/2597 - 3s - loss: 0.0125 - accuracy: 0.9962 - val_loss: 0.0120 - val_accuracy: 0.9964\n",
            "Epoch 463/500\n",
            "2597/2597 - 3s - loss: 0.0142 - accuracy: 0.9958 - val_loss: 0.0243 - val_accuracy: 0.9918\n",
            "Epoch 464/500\n",
            "2597/2597 - 3s - loss: 0.0140 - accuracy: 0.9958 - val_loss: 0.0351 - val_accuracy: 0.9906\n",
            "Epoch 465/500\n",
            "2597/2597 - 3s - loss: 0.0130 - accuracy: 0.9961 - val_loss: 0.0121 - val_accuracy: 0.9961\n",
            "Epoch 466/500\n",
            "2597/2597 - 3s - loss: 0.0128 - accuracy: 0.9961 - val_loss: 0.0203 - val_accuracy: 0.9934\n",
            "Epoch 467/500\n",
            "2597/2597 - 3s - loss: 0.0139 - accuracy: 0.9959 - val_loss: 0.0135 - val_accuracy: 0.9959\n",
            "Epoch 468/500\n",
            "2597/2597 - 3s - loss: 0.0129 - accuracy: 0.9962 - val_loss: 0.0067 - val_accuracy: 0.9980\n",
            "Epoch 469/500\n",
            "2597/2597 - 3s - loss: 0.0140 - accuracy: 0.9959 - val_loss: 0.0123 - val_accuracy: 0.9959\n",
            "Epoch 470/500\n",
            "2597/2597 - 3s - loss: 0.0134 - accuracy: 0.9960 - val_loss: 0.0085 - val_accuracy: 0.9977\n",
            "Epoch 471/500\n",
            "2597/2597 - 3s - loss: 0.0138 - accuracy: 0.9960 - val_loss: 0.0070 - val_accuracy: 0.9980\n",
            "Epoch 472/500\n",
            "2597/2597 - 3s - loss: 0.0129 - accuracy: 0.9961 - val_loss: 0.0073 - val_accuracy: 0.9982\n",
            "Epoch 473/500\n",
            "2597/2597 - 3s - loss: 0.0126 - accuracy: 0.9963 - val_loss: 0.0130 - val_accuracy: 0.9964\n",
            "Epoch 474/500\n",
            "2597/2597 - 3s - loss: 0.0131 - accuracy: 0.9961 - val_loss: 0.0137 - val_accuracy: 0.9954\n",
            "Epoch 475/500\n",
            "2597/2597 - 3s - loss: 0.0134 - accuracy: 0.9959 - val_loss: 0.0095 - val_accuracy: 0.9973\n",
            "Epoch 476/500\n",
            "2597/2597 - 3s - loss: 0.0121 - accuracy: 0.9962 - val_loss: 0.0137 - val_accuracy: 0.9963\n",
            "Epoch 477/500\n",
            "2597/2597 - 3s - loss: 0.0137 - accuracy: 0.9958 - val_loss: 0.0114 - val_accuracy: 0.9965\n",
            "Epoch 478/500\n",
            "2597/2597 - 3s - loss: 0.0128 - accuracy: 0.9961 - val_loss: 0.0085 - val_accuracy: 0.9976\n",
            "Epoch 479/500\n",
            "2597/2597 - 3s - loss: 0.0140 - accuracy: 0.9958 - val_loss: 0.0094 - val_accuracy: 0.9979\n",
            "Epoch 480/500\n",
            "2597/2597 - 3s - loss: 0.0131 - accuracy: 0.9961 - val_loss: 0.0100 - val_accuracy: 0.9968\n",
            "Epoch 481/500\n",
            "2597/2597 - 3s - loss: 0.0124 - accuracy: 0.9962 - val_loss: 0.0162 - val_accuracy: 0.9949\n",
            "Epoch 482/500\n",
            "2597/2597 - 3s - loss: 0.0132 - accuracy: 0.9960 - val_loss: 0.0146 - val_accuracy: 0.9960\n",
            "Epoch 483/500\n",
            "2597/2597 - 3s - loss: 0.0127 - accuracy: 0.9961 - val_loss: 0.0112 - val_accuracy: 0.9966\n",
            "Epoch 484/500\n",
            "2597/2597 - 3s - loss: 0.0135 - accuracy: 0.9960 - val_loss: 0.0091 - val_accuracy: 0.9976\n",
            "Epoch 485/500\n",
            "2597/2597 - 3s - loss: 0.0118 - accuracy: 0.9964 - val_loss: 0.0092 - val_accuracy: 0.9973\n",
            "Epoch 486/500\n",
            "2597/2597 - 3s - loss: 0.0138 - accuracy: 0.9958 - val_loss: 0.0111 - val_accuracy: 0.9967\n",
            "Epoch 487/500\n",
            "2597/2597 - 3s - loss: 0.0140 - accuracy: 0.9957 - val_loss: 0.0136 - val_accuracy: 0.9960\n",
            "Epoch 488/500\n",
            "2597/2597 - 3s - loss: 0.0121 - accuracy: 0.9963 - val_loss: 0.0107 - val_accuracy: 0.9966\n",
            "Epoch 489/500\n",
            "2597/2597 - 3s - loss: 0.0133 - accuracy: 0.9959 - val_loss: 0.0184 - val_accuracy: 0.9935\n",
            "Epoch 490/500\n",
            "2597/2597 - 3s - loss: 0.0126 - accuracy: 0.9962 - val_loss: 0.0141 - val_accuracy: 0.9956\n",
            "Epoch 491/500\n",
            "2597/2597 - 4s - loss: 0.0126 - accuracy: 0.9962 - val_loss: 0.0098 - val_accuracy: 0.9973\n",
            "Epoch 492/500\n",
            "2597/2597 - 3s - loss: 0.0129 - accuracy: 0.9960 - val_loss: 0.0111 - val_accuracy: 0.9968\n",
            "Epoch 493/500\n",
            "2597/2597 - 3s - loss: 0.0128 - accuracy: 0.9961 - val_loss: 0.0118 - val_accuracy: 0.9967\n",
            "Epoch 494/500\n",
            "2597/2597 - 3s - loss: 0.0135 - accuracy: 0.9959 - val_loss: 0.0071 - val_accuracy: 0.9982\n",
            "Epoch 495/500\n",
            "2597/2597 - 3s - loss: 0.0123 - accuracy: 0.9961 - val_loss: 0.0348 - val_accuracy: 0.9905\n",
            "Epoch 496/500\n",
            "2597/2597 - 3s - loss: 0.0121 - accuracy: 0.9964 - val_loss: 0.0078 - val_accuracy: 0.9977\n",
            "Epoch 497/500\n",
            "2597/2597 - 3s - loss: 0.0127 - accuracy: 0.9963 - val_loss: 0.0270 - val_accuracy: 0.9913\n",
            "Epoch 498/500\n",
            "2597/2597 - 3s - loss: 0.0128 - accuracy: 0.9960 - val_loss: 0.0082 - val_accuracy: 0.9980\n",
            "Epoch 499/500\n",
            "2597/2597 - 3s - loss: 0.0132 - accuracy: 0.9961 - val_loss: 0.0082 - val_accuracy: 0.9979\n",
            "Epoch 500/500\n",
            "2597/2597 - 3s - loss: 0.0121 - accuracy: 0.9964 - val_loss: 0.0143 - val_accuracy: 0.9955\n"
          ]
        },
        {
          "output_type": "execute_result",
          "data": {
            "text/plain": [
              "<keras.callbacks.History at 0x7fb6dcf60b50>"
            ]
          },
          "metadata": {},
          "execution_count": 10
        }
      ]
    },
    {
      "cell_type": "code",
      "metadata": {
        "colab": {
          "base_uri": "https://localhost:8080/"
        },
        "id": "WnfESMhmHvz5",
        "outputId": "7216a198-d2ac-488d-cb83-45b18241c5ec"
      },
      "source": [
        "model.evaluate(X_train,y_train)"
      ],
      "execution_count": null,
      "outputs": [
        {
          "output_type": "stream",
          "name": "stdout",
          "text": [
            "11541/11541 [==============================] - 12s 1ms/step - loss: 0.0273 - accuracy: 0.9904\n"
          ]
        },
        {
          "output_type": "execute_result",
          "data": {
            "text/plain": [
              "[0.027343519032001495, 0.9904491901397705]"
            ]
          },
          "metadata": {},
          "execution_count": 13
        }
      ]
    },
    {
      "cell_type": "code",
      "metadata": {
        "id": "-t6TFI5lF7ag"
      },
      "source": [
        "data = trainFile[['MEAN_RR', 'SDRR', 'RMSSD', 'HR', 'pNN50', 'KURT', 'SKEW',\n",
        "       'MEAN_REL_RR', 'MEDIAN_REL_RR', 'SDRR_REL_RR', 'RMSSD_REL_RR',\n",
        "       'SDRR_RMSSD_REL_RR', 'VLF', 'VLF_PCT', 'LF_PCT', 'LF_NU', 'HF',\n",
        "       'HF_PCT', 'HF_NU', 'LF_HF']]"
      ],
      "execution_count": null,
      "outputs": []
    },
    {
      "cell_type": "code",
      "metadata": {
        "colab": {
          "base_uri": "https://localhost:8080/"
        },
        "id": "8ucT9YJzUaxl",
        "outputId": "afb39caf-4ccd-457d-bf3f-29664e6ab2f0"
      },
      "source": [
        "model.summary()"
      ],
      "execution_count": null,
      "outputs": [
        {
          "output_type": "stream",
          "name": "stdout",
          "text": [
            "Model: \"sequential_1\"\n",
            "_________________________________________________________________\n",
            "Layer (type)                 Output Shape              Param #   \n",
            "=================================================================\n",
            "dense_6 (Dense)              (None, 16)                272       \n",
            "_________________________________________________________________\n",
            "dense_7 (Dense)              (None, 14)                238       \n",
            "_________________________________________________________________\n",
            "dense_8 (Dense)              (None, 12)                180       \n",
            "_________________________________________________________________\n",
            "dense_9 (Dense)              (None, 10)                130       \n",
            "_________________________________________________________________\n",
            "dense_10 (Dense)             (None, 8)                 88        \n",
            "_________________________________________________________________\n",
            "dense_11 (Dense)             (None, 6)                 54        \n",
            "_________________________________________________________________\n",
            "dense_12 (Dense)             (None, 3)                 21        \n",
            "=================================================================\n",
            "Total params: 983\n",
            "Trainable params: 983\n",
            "Non-trainable params: 0\n",
            "_________________________________________________________________\n"
          ]
        }
      ]
    },
    {
      "cell_type": "code",
      "metadata": {
        "id": "euXkiCMGgGKe"
      },
      "source": [
        "from sklearn.metrics import confusion_matrix , classification_report"
      ],
      "execution_count": null,
      "outputs": []
    },
    {
      "cell_type": "code",
      "metadata": {
        "colab": {
          "base_uri": "https://localhost:8080/"
        },
        "id": "xZqexLs5gsAx",
        "outputId": "00150aa3-798d-41ca-fb4f-220fbe657173"
      },
      "source": [
        "y_predict=model.predict(X_test)\n",
        "print(y_predict[:10])"
      ],
      "execution_count": null,
      "outputs": [
        {
          "output_type": "stream",
          "name": "stdout",
          "text": [
            "[[1.3535490e-16 1.0000000e+00 5.3556645e-21]\n",
            " [1.7646947e-08 9.0453742e-11 1.0000000e+00]\n",
            " [7.2405172e-11 1.0000000e+00 2.5393887e-14]\n",
            " [1.8640521e-05 9.9997628e-01 5.0920899e-06]\n",
            " [9.6726716e-01 3.2732882e-02 8.0694562e-11]\n",
            " [3.0906276e-12 1.5470830e-03 9.9845290e-01]\n",
            " [1.0000000e+00 9.9075725e-10 1.5083588e-15]\n",
            " [2.9028335e-11 1.0000000e+00 5.8546669e-29]\n",
            " [1.0000000e+00 8.9435421e-18 1.1029567e-25]\n",
            " [1.6388410e-35 1.0000000e+00 2.7770488e-23]]\n"
          ]
        }
      ]
    },
    {
      "cell_type": "code",
      "metadata": {
        "colab": {
          "base_uri": "https://localhost:8080/"
        },
        "id": "bKo5wZcugu6B",
        "outputId": "98de4bd3-c7e9-4b9a-8be5-98ca01bb4d1b"
      },
      "source": [
        "y_predict=np.round(y_predict)\n",
        "print(y_predict[20:30])"
      ],
      "execution_count": null,
      "outputs": [
        {
          "output_type": "stream",
          "name": "stdout",
          "text": [
            "[[0. 1. 0.]\n",
            " [0. 1. 0.]\n",
            " [0. 1. 0.]\n",
            " [1. 0. 0.]\n",
            " [0. 1. 0.]\n",
            " [0. 0. 1.]\n",
            " [0. 1. 0.]\n",
            " [1. 0. 0.]\n",
            " [0. 1. 0.]\n",
            " [1. 0. 0.]]\n"
          ]
        }
      ]
    },
    {
      "cell_type": "code",
      "metadata": {
        "colab": {
          "base_uri": "https://localhost:8080/"
        },
        "id": "UFPWpncgiHVa",
        "outputId": "0ab90338-ca20-482a-e324-939a76b57df5"
      },
      "source": [
        "print(y_test[20:30])"
      ],
      "execution_count": null,
      "outputs": [
        {
          "output_type": "stream",
          "name": "stdout",
          "text": [
            "[[0. 1. 0.]\n",
            " [0. 1. 0.]\n",
            " [0. 1. 0.]\n",
            " [1. 0. 0.]\n",
            " [0. 1. 0.]\n",
            " [0. 0. 1.]\n",
            " [0. 1. 0.]\n",
            " [1. 0. 0.]\n",
            " [0. 1. 0.]\n",
            " [1. 0. 0.]]\n"
          ]
        }
      ]
    },
    {
      "cell_type": "markdown",
      "metadata": {
        "id": "7blLuuy72B22"
      },
      "source": [
        "# **Printing the model performance and classification report**"
      ]
    },
    {
      "cell_type": "code",
      "metadata": {
        "colab": {
          "base_uri": "https://localhost:8080/"
        },
        "id": "xbTNgsK-gL_y",
        "outputId": "3c628791-662a-4523-fef3-f5b1237a91eb"
      },
      "source": [
        "print(classification_report(y_test,y_predict))"
      ],
      "execution_count": null,
      "outputs": [
        {
          "output_type": "stream",
          "name": "stdout",
          "text": [
            "              precision    recall  f1-score   support\n",
            "\n",
            "           0       0.99      0.98      0.98     11782\n",
            "           1       0.98      0.99      0.98     22158\n",
            "           2       0.98      0.95      0.96      7093\n",
            "\n",
            "   micro avg       0.98      0.98      0.98     41033\n",
            "   macro avg       0.98      0.97      0.98     41033\n",
            "weighted avg       0.98      0.98      0.98     41033\n",
            " samples avg       0.98      0.98      0.98     41033\n",
            "\n"
          ]
        },
        {
          "output_type": "stream",
          "name": "stderr",
          "text": [
            "/usr/local/lib/python3.7/dist-packages/sklearn/metrics/_classification.py:1272: UndefinedMetricWarning: Precision and F-score are ill-defined and being set to 0.0 in samples with no predicted labels. Use `zero_division` parameter to control this behavior.\n",
            "  _warn_prf(average, modifier, msg_start, len(result))\n"
          ]
        }
      ]
    },
    {
      "cell_type": "code",
      "metadata": {
        "id": "AYHm0ZsEf2xQ"
      },
      "source": [
        "model.save('D:/finalmodel.h5')  # creates a HDF5 file 'finalmodel.h5'"
      ],
      "execution_count": null,
      "outputs": []
    },
    {
      "cell_type": "code",
      "metadata": {
        "id": "G2N3y1FHjpa_"
      },
      "source": [
        "model2 = keras.models.load_model('D:/PFE/firstTry/finalmodel.h5')"
      ],
      "execution_count": null,
      "outputs": []
    },
    {
      "cell_type": "code",
      "metadata": {
        "id": "m2ebuCuYm9i2"
      },
      "source": [
        "y_predict=model2.predict(X_test)"
      ],
      "execution_count": null,
      "outputs": []
    },
    {
      "cell_type": "code",
      "metadata": {
        "colab": {
          "base_uri": "https://localhost:8080/"
        },
        "id": "cHjMT027nTFz",
        "outputId": "144318a2-c693-487a-af28-946c3dfec990"
      },
      "source": [
        "y_predict=np.round(y_predict)\n",
        "print(y_predict[20:30])"
      ],
      "execution_count": null,
      "outputs": [
        {
          "output_type": "stream",
          "name": "stdout",
          "text": [
            "[[0. 1. 0.]\n",
            " [0. 1. 0.]\n",
            " [0. 1. 0.]\n",
            " [1. 0. 0.]\n",
            " [0. 1. 0.]\n",
            " [0. 0. 1.]\n",
            " [0. 1. 0.]\n",
            " [1. 0. 0.]\n",
            " [0. 1. 0.]\n",
            " [1. 0. 0.]]\n"
          ]
        }
      ]
    },
    {
      "cell_type": "code",
      "metadata": {
        "id": "8AdJSQZ_LGdT"
      },
      "source": [
        "data=[[0.9183902375259865, 0.038438923886373495, 0.025921727119857917, 65.44908507261927, 0.06707317073170732, 0.26806256260156314, -0.5422107775094281, 9.905647789591628e-05, 0.0, 0.6853236752263312, 0.0004288691011044008, 33.79233693032387, 55.69638383703527, 84.12377246788047, 10.511279232640861, 5.298725550366915]]"
      ],
      "execution_count": null,
      "outputs": []
    },
    {
      "cell_type": "code",
      "metadata": {
        "colab": {
          "base_uri": "https://localhost:8080/"
        },
        "id": "hK1iav-ILLU-",
        "outputId": "fe9f86b2-2207-4e38-bc64-d59d664da18f"
      },
      "source": [
        "scaler = MinMaxScaler(feature_range=(0,1))\n",
        "X_test = scaler.fit_transform(data)\n",
        "model = keras.models.load_model('D:/finalmodel.h5')\n",
        "y_predict=model.predict(X_test)\n",
        "print(y_predict)\n",
        "y_predict=np.round(y_predict)\n",
        "print(y_predict)"
      ],
      "execution_count": null,
      "outputs": [
        {
          "output_type": "stream",
          "name": "stdout",
          "text": [
            "[[6.6607511e-01 5.6782621e-04 3.3335707e-01]]\n",
            "[[1. 0. 0.]]\n"
          ]
        }
      ]
    },
    {
      "cell_type": "code",
      "metadata": {
        "colab": {
          "base_uri": "https://localhost:8080/"
        },
        "id": "pRDhxAll34Wv",
        "outputId": "a2c64473-2669-4939-ea97-c29f6057e17f"
      },
      "source": [
        "trainFile.isnull().sum()"
      ],
      "execution_count": null,
      "outputs": [
        {
          "output_type": "execute_result",
          "data": {
            "text/plain": [
              "MEAN_RR              0\n",
              "MEDIAN_RR            0\n",
              "SDRR                 0\n",
              "RMSSD                0\n",
              "SDSD                 0\n",
              "SDRR_RMSSD           0\n",
              "HR                   0\n",
              "pNN25                0\n",
              "pNN50                0\n",
              "SD1                  0\n",
              "SD2                  0\n",
              "KURT                 0\n",
              "SKEW                 0\n",
              "MEAN_REL_RR          0\n",
              "MEDIAN_REL_RR        0\n",
              "SDRR_REL_RR          0\n",
              "RMSSD_REL_RR         0\n",
              "SDSD_REL_RR          0\n",
              "SDRR_RMSSD_REL_RR    0\n",
              "KURT_REL_RR          0\n",
              "SKEW_REL_RR          0\n",
              "VLF                  0\n",
              "VLF_PCT              0\n",
              "LF                   0\n",
              "LF_PCT               0\n",
              "LF_NU                0\n",
              "HF                   0\n",
              "HF_PCT               0\n",
              "HF_NU                0\n",
              "TP                   0\n",
              "LF_HF                0\n",
              "HF_LF                0\n",
              "sampen               0\n",
              "higuci               0\n",
              "condition            0\n",
              "dtype: int64"
            ]
          },
          "metadata": {},
          "execution_count": 27
        }
      ]
    }
  ]
}